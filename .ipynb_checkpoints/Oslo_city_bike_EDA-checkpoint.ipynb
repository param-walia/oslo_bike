{
 "cells": [
  {
   "cell_type": "markdown",
   "metadata": {},
   "source": [
    "## Oslo city bike data exploration analysis"
   ]
  },
  {
   "cell_type": "markdown",
   "metadata": {},
   "source": [
    "In Oslo, the capital of Norway, bikes can be rented and returned at (presently) 230 locations in the city. Riding a bike to get around the city is very popular during the summer time. Below I do some exploratory data analysis from the data I got from https://developer.oslobysykkel.no/data and https://yr.no. \n",
    "\n",
    "This notebook is for my learning and everyone is free to use the code. Please also give suggestions to improve the code.\n",
    "\n",
    "The pic below taken from https://visitoslo.com"
   ]
  },
  {
   "cell_type": "markdown",
   "metadata": {},
   "source": [
    "![title](bike_pic.jpeg)"
   ]
  },
  {
   "cell_type": "markdown",
   "metadata": {},
   "source": [
    "## Imorting modules"
   ]
  },
  {
   "cell_type": "code",
   "execution_count": 181,
   "metadata": {},
   "outputs": [],
   "source": [
    "import pandas as pd\n",
    "import numpy as np\n",
    "import seaborn as sns\n",
    "import matplotlib.pyplot as plt\n",
    "%matplotlib inline\n",
    "sns.set(color_codes=True)\n",
    "\n",
    "from sklearn.linear_model import LinearRegression\n",
    "from sklearn.model_selection import train_test_split\n",
    "from sklearn.metrics import mean_squared_error\n",
    "from math import sqrt\n",
    "\n",
    "import json\n",
    "from pandas.io.json import json_normalize\n",
    "\n",
    "import datetime\n",
    "import calendar\n",
    "\n",
    "import gmaps\n",
    "\n",
    "import folium"
   ]
  },
  {
   "cell_type": "markdown",
   "metadata": {},
   "source": [
    "## Loading of data"
   ]
  },
  {
   "cell_type": "code",
   "execution_count": 7,
   "metadata": {},
   "outputs": [],
   "source": [
    "#Loading of bike data\n",
    "april18=pd.read_csv('trips-2018.4.1-2018.4.30.csv',parse_dates=['Start time','End time'])\n",
    "may18=pd.read_csv('trips-2018.5.1-2018.5.31.csv',parse_dates=['Start time','End time'])\n",
    "june18=pd.read_csv('trips-2018.6.1-2018.6.30.csv',parse_dates=['Start time','End time'])\n",
    "july18=pd.read_csv('trips-2018.7.1-2018.7.31.csv',parse_dates=['Start time','End time'])\n",
    "\n",
    "july17=pd.read_csv('trips-2017.7.1-2017.7.31.csv',parse_dates=['Start time','End time'])\n",
    "july16=pd.read_csv('trips-2016.7.1-2016.7.31.csv',parse_dates=['Start time','End time'])"
   ]
  },
  {
   "cell_type": "code",
   "execution_count": 8,
   "metadata": {},
   "outputs": [
    {
     "data": {
      "text/html": [
       "<div>\n",
       "<style scoped>\n",
       "    .dataframe tbody tr th:only-of-type {\n",
       "        vertical-align: middle;\n",
       "    }\n",
       "\n",
       "    .dataframe tbody tr th {\n",
       "        vertical-align: top;\n",
       "    }\n",
       "\n",
       "    .dataframe thead th {\n",
       "        text-align: right;\n",
       "    }\n",
       "</style>\n",
       "<table border=\"1\" class=\"dataframe\">\n",
       "  <thead>\n",
       "    <tr style=\"text-align: right;\">\n",
       "      <th></th>\n",
       "      <th>Start station</th>\n",
       "      <th>Start time</th>\n",
       "      <th>End station</th>\n",
       "      <th>End time</th>\n",
       "    </tr>\n",
       "  </thead>\n",
       "  <tbody>\n",
       "    <tr>\n",
       "      <th>0</th>\n",
       "      <td>207</td>\n",
       "      <td>2018-07-01 04:00:15</td>\n",
       "      <td>177</td>\n",
       "      <td>2018-07-01 04:06:37</td>\n",
       "    </tr>\n",
       "    <tr>\n",
       "      <th>1</th>\n",
       "      <td>189</td>\n",
       "      <td>2018-07-01 04:00:34</td>\n",
       "      <td>203</td>\n",
       "      <td>2018-07-01 04:05:38</td>\n",
       "    </tr>\n",
       "    <tr>\n",
       "      <th>2</th>\n",
       "      <td>470</td>\n",
       "      <td>2018-07-01 04:00:38</td>\n",
       "      <td>247</td>\n",
       "      <td>2018-07-01 04:07:39</td>\n",
       "    </tr>\n",
       "    <tr>\n",
       "      <th>3</th>\n",
       "      <td>246</td>\n",
       "      <td>2018-07-01 04:00:46</td>\n",
       "      <td>242</td>\n",
       "      <td>2018-07-01 04:11:59</td>\n",
       "    </tr>\n",
       "    <tr>\n",
       "      <th>4</th>\n",
       "      <td>222</td>\n",
       "      <td>2018-07-01 04:00:55</td>\n",
       "      <td>247</td>\n",
       "      <td>2018-07-01 04:08:52</td>\n",
       "    </tr>\n",
       "  </tbody>\n",
       "</table>\n",
       "</div>"
      ],
      "text/plain": [
       "   Start station          Start time  End station            End time\n",
       "0            207 2018-07-01 04:00:15          177 2018-07-01 04:06:37\n",
       "1            189 2018-07-01 04:00:34          203 2018-07-01 04:05:38\n",
       "2            470 2018-07-01 04:00:38          247 2018-07-01 04:07:39\n",
       "3            246 2018-07-01 04:00:46          242 2018-07-01 04:11:59\n",
       "4            222 2018-07-01 04:00:55          247 2018-07-01 04:08:52"
      ]
     },
     "execution_count": 8,
     "metadata": {},
     "output_type": "execute_result"
    }
   ],
   "source": [
    "# Let's look at the columns\n",
    "july18.head()"
   ]
  },
  {
   "cell_type": "code",
   "execution_count": 26,
   "metadata": {},
   "outputs": [],
   "source": [
    "#Combine data for all the available months of 2018\n",
    "dfcomb=pd.concat([april18,may18,june18,july18])"
   ]
  },
  {
   "cell_type": "code",
   "execution_count": 27,
   "metadata": {},
   "outputs": [],
   "source": [
    "#Let's add a column for the duration of the rented period. The period in minutes.\n",
    "dfcomb['duration']=((dfcomb['End time']-dfcomb['Start time']).dt.total_seconds())/60.0"
   ]
  },
  {
   "cell_type": "code",
   "execution_count": 28,
   "metadata": {},
   "outputs": [
    {
     "data": {
      "text/html": [
       "<div>\n",
       "<style scoped>\n",
       "    .dataframe tbody tr th:only-of-type {\n",
       "        vertical-align: middle;\n",
       "    }\n",
       "\n",
       "    .dataframe tbody tr th {\n",
       "        vertical-align: top;\n",
       "    }\n",
       "\n",
       "    .dataframe thead th {\n",
       "        text-align: right;\n",
       "    }\n",
       "</style>\n",
       "<table border=\"1\" class=\"dataframe\">\n",
       "  <thead>\n",
       "    <tr style=\"text-align: right;\">\n",
       "      <th></th>\n",
       "      <th>Start station</th>\n",
       "      <th>End station</th>\n",
       "      <th>duration</th>\n",
       "    </tr>\n",
       "  </thead>\n",
       "  <tbody>\n",
       "    <tr>\n",
       "      <th>count</th>\n",
       "      <td>1.686706e+06</td>\n",
       "      <td>1.686706e+06</td>\n",
       "      <td>1.686706e+06</td>\n",
       "    </tr>\n",
       "    <tr>\n",
       "      <th>mean</th>\n",
       "      <td>2.758795e+02</td>\n",
       "      <td>2.764166e+02</td>\n",
       "      <td>1.585371e+01</td>\n",
       "    </tr>\n",
       "    <tr>\n",
       "      <th>std</th>\n",
       "      <td>8.208443e+01</td>\n",
       "      <td>8.199220e+01</td>\n",
       "      <td>1.176022e+02</td>\n",
       "    </tr>\n",
       "    <tr>\n",
       "      <th>min</th>\n",
       "      <td>1.570000e+02</td>\n",
       "      <td>1.570000e+02</td>\n",
       "      <td>-3.520000e+01</td>\n",
       "    </tr>\n",
       "    <tr>\n",
       "      <th>25%</th>\n",
       "      <td>2.070000e+02</td>\n",
       "      <td>2.080000e+02</td>\n",
       "      <td>5.550000e+00</td>\n",
       "    </tr>\n",
       "    <tr>\n",
       "      <th>50%</th>\n",
       "      <td>2.620000e+02</td>\n",
       "      <td>2.620000e+02</td>\n",
       "      <td>9.266667e+00</td>\n",
       "    </tr>\n",
       "    <tr>\n",
       "      <th>75%</th>\n",
       "      <td>3.450000e+02</td>\n",
       "      <td>3.450000e+02</td>\n",
       "      <td>1.568333e+01</td>\n",
       "    </tr>\n",
       "    <tr>\n",
       "      <th>max</th>\n",
       "      <td>4.860000e+02</td>\n",
       "      <td>4.860000e+02</td>\n",
       "      <td>3.025447e+04</td>\n",
       "    </tr>\n",
       "  </tbody>\n",
       "</table>\n",
       "</div>"
      ],
      "text/plain": [
       "       Start station   End station      duration\n",
       "count   1.686706e+06  1.686706e+06  1.686706e+06\n",
       "mean    2.758795e+02  2.764166e+02  1.585371e+01\n",
       "std     8.208443e+01  8.199220e+01  1.176022e+02\n",
       "min     1.570000e+02  1.570000e+02 -3.520000e+01\n",
       "25%     2.070000e+02  2.080000e+02  5.550000e+00\n",
       "50%     2.620000e+02  2.620000e+02  9.266667e+00\n",
       "75%     3.450000e+02  3.450000e+02  1.568333e+01\n",
       "max     4.860000e+02  4.860000e+02  3.025447e+04"
      ]
     },
     "execution_count": 28,
     "metadata": {},
     "output_type": "execute_result"
    }
   ],
   "source": [
    "dfcomb.describe()"
   ]
  },
  {
   "cell_type": "markdown",
   "metadata": {},
   "source": [
    "We can see from the above output that there is negative duration for some data entries and the maximum period is nearly 20 days! Let's now clean the data "
   ]
  },
  {
   "cell_type": "code",
   "execution_count": 29,
   "metadata": {},
   "outputs": [],
   "source": [
    "cutoffduration=200.0 # value of duration above which the data is ignored\n",
    "dfcomb=dfcomb.drop(dfcomb[(dfcomb['duration']>cutoffduration)|(dfcomb['duration']<0)].index)"
   ]
  },
  {
   "cell_type": "markdown",
   "metadata": {},
   "source": [
    "Let's also drop the points when the start and end point are the same and the duration is less than one minute. These are typically the instances when a user decided not to take the bike."
   ]
  },
  {
   "cell_type": "code",
   "execution_count": 129,
   "metadata": {},
   "outputs": [],
   "source": [
    "dfcomb=dfcomb.drop(dfcomb[(dfcomb['duration']<1)&(dfcomb['Start station']==dfcomb['End station'])].index)"
   ]
  },
  {
   "cell_type": "code",
   "execution_count": 130,
   "metadata": {},
   "outputs": [
    {
     "data": {
      "text/html": [
       "<div>\n",
       "<style scoped>\n",
       "    .dataframe tbody tr th:only-of-type {\n",
       "        vertical-align: middle;\n",
       "    }\n",
       "\n",
       "    .dataframe tbody tr th {\n",
       "        vertical-align: top;\n",
       "    }\n",
       "\n",
       "    .dataframe thead th {\n",
       "        text-align: right;\n",
       "    }\n",
       "</style>\n",
       "<table border=\"1\" class=\"dataframe\">\n",
       "  <thead>\n",
       "    <tr style=\"text-align: right;\">\n",
       "      <th></th>\n",
       "      <th>duration</th>\n",
       "      <th>Hour</th>\n",
       "    </tr>\n",
       "  </thead>\n",
       "  <tbody>\n",
       "    <tr>\n",
       "      <th>count</th>\n",
       "      <td>1.490987e+06</td>\n",
       "      <td>1.490987e+06</td>\n",
       "    </tr>\n",
       "    <tr>\n",
       "      <th>mean</th>\n",
       "      <td>1.333106e+01</td>\n",
       "      <td>1.594291e+01</td>\n",
       "    </tr>\n",
       "    <tr>\n",
       "      <th>std</th>\n",
       "      <td>1.335296e+01</td>\n",
       "      <td>4.501422e+00</td>\n",
       "    </tr>\n",
       "    <tr>\n",
       "      <th>min</th>\n",
       "      <td>2.500000e-01</td>\n",
       "      <td>2.133333e+00</td>\n",
       "    </tr>\n",
       "    <tr>\n",
       "      <th>25%</th>\n",
       "      <td>5.866667e+00</td>\n",
       "      <td>1.290000e+01</td>\n",
       "    </tr>\n",
       "    <tr>\n",
       "      <th>50%</th>\n",
       "      <td>9.516667e+00</td>\n",
       "      <td>1.653333e+01</td>\n",
       "    </tr>\n",
       "    <tr>\n",
       "      <th>75%</th>\n",
       "      <td>1.591667e+01</td>\n",
       "      <td>1.931667e+01</td>\n",
       "    </tr>\n",
       "    <tr>\n",
       "      <th>max</th>\n",
       "      <td>1.999833e+02</td>\n",
       "      <td>2.598333e+01</td>\n",
       "    </tr>\n",
       "  </tbody>\n",
       "</table>\n",
       "</div>"
      ],
      "text/plain": [
       "           duration          Hour\n",
       "count  1.490987e+06  1.490987e+06\n",
       "mean   1.333106e+01  1.594291e+01\n",
       "std    1.335296e+01  4.501422e+00\n",
       "min    2.500000e-01  2.133333e+00\n",
       "25%    5.866667e+00  1.290000e+01\n",
       "50%    9.516667e+00  1.653333e+01\n",
       "75%    1.591667e+01  1.931667e+01\n",
       "max    1.999833e+02  2.598333e+01"
      ]
     },
     "execution_count": 130,
     "metadata": {},
     "output_type": "execute_result"
    }
   ],
   "source": [
    "dfcomb.describe()"
   ]
  },
  {
   "cell_type": "code",
   "execution_count": 32,
   "metadata": {},
   "outputs": [
    {
     "data": {
      "text/plain": [
       "<matplotlib.axes._subplots.AxesSubplot at 0x1110c2588>"
      ]
     },
     "execution_count": 32,
     "metadata": {},
     "output_type": "execute_result"
    },
    {
     "data": {
      "image/png": "[encoded data removed]",
      "text/plain": [
       "<Figure size 432x288 with 1 Axes>"
      ]
     },
     "metadata": {},
     "output_type": "display_data"
    }
   ],
   "source": [
    "# Let's plot to see if the cutoff of 200 is justified\n",
    "sns.distplot(dfcomb['duration'])"
   ]
  },
  {
   "cell_type": "markdown",
   "metadata": {},
   "source": [
    "A Chi-squared distribution"
   ]
  },
  {
   "cell_type": "code",
   "execution_count": 33,
   "metadata": {},
   "outputs": [
    {
     "data": {
      "text/plain": [
       "<matplotlib.axes._subplots.AxesSubplot at 0x110de5f98>"
      ]
     },
     "execution_count": 33,
     "metadata": {},
     "output_type": "execute_result"
    },
    {
     "data": {
      "image/png": "[encoded data removed]",
      "text/plain": [
       "<Figure size 432x288 with 1 Axes>"
      ]
     },
     "metadata": {},
     "output_type": "display_data"
    }
   ],
   "source": [
    "sns.boxplot(dfcomb['duration'][dfcomb['duration']<1000.0])"
   ]
  },
  {
   "cell_type": "code",
   "execution_count": 38,
   "metadata": {},
   "outputs": [],
   "source": [
    "dfcomb['Date']= dfcomb['Start time'].dt.date"
   ]
  },
  {
   "cell_type": "code",
   "execution_count": 49,
   "metadata": {},
   "outputs": [
    {
     "data": {
      "text/plain": [
       "0    Apr\n",
       "1    Apr\n",
       "2    Apr\n",
       "3    Apr\n",
       "4    Apr\n",
       "Name: Month, dtype: object"
      ]
     },
     "execution_count": 49,
     "metadata": {},
     "output_type": "execute_result"
    }
   ],
   "source": [
    "dfcomb['Month']= (dfcomb['Start time'].dt.month).apply(lambda x: calendar.month_abbr[x])\n",
    "dfcomb['Month'].head()"
   ]
  },
  {
   "cell_type": "code",
   "execution_count": 117,
   "metadata": {},
   "outputs": [],
   "source": [
    "dfcomb['Hour']= 2+ dfcomb['Start time'].dt.hour +dfcomb['Start time'].dt.minute/60.0\n",
    "# The 2 is added to convert to CEST\n",
    "\n",
    "#dfcomb['Minute']= dfcomb['Start time'].dt.minute"
   ]
  },
  {
   "cell_type": "code",
   "execution_count": 115,
   "metadata": {},
   "outputs": [],
   "source": [
    "dfcomb['Day']= dfcomb['Start time'].dt.weekday_name"
   ]
  },
  {
   "cell_type": "code",
   "execution_count": 122,
   "metadata": {},
   "outputs": [],
   "source": [
    "dfcomb=dfcomb.drop(['Start time','End time','Minute'],axis=1);"
   ]
  },
  {
   "cell_type": "code",
   "execution_count": 123,
   "metadata": {},
   "outputs": [
    {
     "data": {
      "text/html": [
       "<div>\n",
       "<style scoped>\n",
       "    .dataframe tbody tr th:only-of-type {\n",
       "        vertical-align: middle;\n",
       "    }\n",
       "\n",
       "    .dataframe tbody tr th {\n",
       "        vertical-align: top;\n",
       "    }\n",
       "\n",
       "    .dataframe thead th {\n",
       "        text-align: right;\n",
       "    }\n",
       "</style>\n",
       "<table border=\"1\" class=\"dataframe\">\n",
       "  <thead>\n",
       "    <tr style=\"text-align: right;\">\n",
       "      <th></th>\n",
       "      <th>Start station</th>\n",
       "      <th>End station</th>\n",
       "      <th>duration</th>\n",
       "      <th>Date</th>\n",
       "      <th>Month</th>\n",
       "      <th>Hour</th>\n",
       "      <th>Day</th>\n",
       "    </tr>\n",
       "  </thead>\n",
       "  <tbody>\n",
       "    <tr>\n",
       "      <th>0</th>\n",
       "      <td>222</td>\n",
       "      <td>222</td>\n",
       "      <td>8.916667</td>\n",
       "      <td>2018-04-01</td>\n",
       "      <td>Apr</td>\n",
       "      <td>15.566667</td>\n",
       "      <td>Sunday</td>\n",
       "    </tr>\n",
       "    <tr>\n",
       "      <th>1</th>\n",
       "      <td>204</td>\n",
       "      <td>204</td>\n",
       "      <td>0.966667</td>\n",
       "      <td>2018-04-03</td>\n",
       "      <td>Apr</td>\n",
       "      <td>16.466667</td>\n",
       "      <td>Tuesday</td>\n",
       "    </tr>\n",
       "    <tr>\n",
       "      <th>2</th>\n",
       "      <td>204</td>\n",
       "      <td>204</td>\n",
       "      <td>0.700000</td>\n",
       "      <td>2018-04-04</td>\n",
       "      <td>Apr</td>\n",
       "      <td>6.150000</td>\n",
       "      <td>Wednesday</td>\n",
       "    </tr>\n",
       "    <tr>\n",
       "      <th>3</th>\n",
       "      <td>274</td>\n",
       "      <td>204</td>\n",
       "      <td>4.533333</td>\n",
       "      <td>2018-04-04</td>\n",
       "      <td>Apr</td>\n",
       "      <td>7.100000</td>\n",
       "      <td>Wednesday</td>\n",
       "    </tr>\n",
       "    <tr>\n",
       "      <th>4</th>\n",
       "      <td>247</td>\n",
       "      <td>279</td>\n",
       "      <td>4.150000</td>\n",
       "      <td>2018-04-04</td>\n",
       "      <td>Apr</td>\n",
       "      <td>7.183333</td>\n",
       "      <td>Wednesday</td>\n",
       "    </tr>\n",
       "  </tbody>\n",
       "</table>\n",
       "</div>"
      ],
      "text/plain": [
       "  Start station End station  duration        Date Month       Hour        Day\n",
       "0           222         222  8.916667  2018-04-01   Apr  15.566667     Sunday\n",
       "1           204         204  0.966667  2018-04-03   Apr  16.466667    Tuesday\n",
       "2           204         204  0.700000  2018-04-04   Apr   6.150000  Wednesday\n",
       "3           274         204  4.533333  2018-04-04   Apr   7.100000  Wednesday\n",
       "4           247         279  4.150000  2018-04-04   Apr   7.183333  Wednesday"
      ]
     },
     "execution_count": 123,
     "metadata": {},
     "output_type": "execute_result"
    }
   ],
   "source": [
    "dfcomb.head()"
   ]
  },
  {
   "cell_type": "code",
   "execution_count": 124,
   "metadata": {},
   "outputs": [
    {
     "data": {
      "text/html": [
       "<div>\n",
       "<style scoped>\n",
       "    .dataframe tbody tr th:only-of-type {\n",
       "        vertical-align: middle;\n",
       "    }\n",
       "\n",
       "    .dataframe tbody tr th {\n",
       "        vertical-align: top;\n",
       "    }\n",
       "\n",
       "    .dataframe thead th {\n",
       "        text-align: right;\n",
       "    }\n",
       "</style>\n",
       "<table border=\"1\" class=\"dataframe\">\n",
       "  <thead>\n",
       "    <tr style=\"text-align: right;\">\n",
       "      <th></th>\n",
       "      <th>duration</th>\n",
       "      <th>Hour</th>\n",
       "    </tr>\n",
       "  </thead>\n",
       "  <tbody>\n",
       "    <tr>\n",
       "      <th>count</th>\n",
       "      <td>1.667985e+06</td>\n",
       "      <td>1.667985e+06</td>\n",
       "    </tr>\n",
       "    <tr>\n",
       "      <th>mean</th>\n",
       "      <td>1.292379e+01</td>\n",
       "      <td>1.594511e+01</td>\n",
       "    </tr>\n",
       "    <tr>\n",
       "      <th>std</th>\n",
       "      <td>1.330944e+01</td>\n",
       "      <td>4.498574e+00</td>\n",
       "    </tr>\n",
       "    <tr>\n",
       "      <th>min</th>\n",
       "      <td>0.000000e+00</td>\n",
       "      <td>2.133333e+00</td>\n",
       "    </tr>\n",
       "    <tr>\n",
       "      <th>25%</th>\n",
       "      <td>5.550000e+00</td>\n",
       "      <td>1.291667e+01</td>\n",
       "    </tr>\n",
       "    <tr>\n",
       "      <th>50%</th>\n",
       "      <td>9.233333e+00</td>\n",
       "      <td>1.653333e+01</td>\n",
       "    </tr>\n",
       "    <tr>\n",
       "      <th>75%</th>\n",
       "      <td>1.558333e+01</td>\n",
       "      <td>1.931667e+01</td>\n",
       "    </tr>\n",
       "    <tr>\n",
       "      <th>max</th>\n",
       "      <td>1.999833e+02</td>\n",
       "      <td>2.598333e+01</td>\n",
       "    </tr>\n",
       "  </tbody>\n",
       "</table>\n",
       "</div>"
      ],
      "text/plain": [
       "           duration          Hour\n",
       "count  1.667985e+06  1.667985e+06\n",
       "mean   1.292379e+01  1.594511e+01\n",
       "std    1.330944e+01  4.498574e+00\n",
       "min    0.000000e+00  2.133333e+00\n",
       "25%    5.550000e+00  1.291667e+01\n",
       "50%    9.233333e+00  1.653333e+01\n",
       "75%    1.558333e+01  1.931667e+01\n",
       "max    1.999833e+02  2.598333e+01"
      ]
     },
     "execution_count": 124,
     "metadata": {},
     "output_type": "execute_result"
    }
   ],
   "source": [
    "dfcomb.describe()"
   ]
  },
  {
   "cell_type": "markdown",
   "metadata": {},
   "source": [
    "# The bike traffic during various hours"
   ]
  },
  {
   "cell_type": "code",
   "execution_count": 93,
   "metadata": {},
   "outputs": [
    {
     "data": {
      "text/plain": [
       "<matplotlib.axes._subplots.AxesSubplot at 0x1119e0908>"
      ]
     },
     "execution_count": 93,
     "metadata": {},
     "output_type": "execute_result"
    },
    {
     "data": {
      "image/png": "[encoded data removed]",
      "text/plain": [
       "<Figure size 432x288 with 1 Axes>"
      ]
     },
     "metadata": {},
     "output_type": "display_data"
    }
   ],
   "source": [
    "plt.xlim(0, 25)\n",
    "sns.distplot(dfcomb.Hour,hist_kws={\"range\": [0,24]})"
   ]
  },
  {
   "cell_type": "markdown",
   "metadata": {},
   "source": [
    "We see that ~5% users might be renting bikes to get to work/school, hence the increase during the early hours. The trend decreases and then again picks up (at ~10). "
   ]
  },
  {
   "cell_type": "code",
   "execution_count": 96,
   "metadata": {},
   "outputs": [
    {
     "data": {
      "text/plain": [
       "<matplotlib.axes._subplots.AxesSubplot at 0x10f9e78d0>"
      ]
     },
     "execution_count": 96,
     "metadata": {},
     "output_type": "execute_result"
    },
    {
     "data": {
      "image/png": "[encoded data removed]",
      "text/plain": [
       "<Figure size 432x288 with 1 Axes>"
      ]
     },
     "metadata": {},
     "output_type": "display_data"
    }
   ],
   "source": [
    "#Return times\n",
    "plt.xlim(0, 25)\n",
    "sns.distplot(dfcomb.Hour+dfcomb.duration/60.0,hist_kws={\"range\": [0,24]})"
   ]
  },
  {
   "cell_type": "markdown",
   "metadata": {},
   "source": [
    "Looking at the city-bike webpage, I found out that the bikes can be rented from 6 until 24. The above plot shows this nicely.\n",
    "\n",
    "Let's see the behaviour for some months"
   ]
  },
  {
   "cell_type": "code",
   "execution_count": 100,
   "metadata": {},
   "outputs": [
    {
     "data": {
      "text/plain": [
       "<matplotlib.axes._subplots.AxesSubplot at 0x11306e080>"
      ]
     },
     "execution_count": 100,
     "metadata": {},
     "output_type": "execute_result"
    },
    {
     "data": {
      "image/png": "[encoded data removed]",
      "text/plain": [
       "<Figure size 432x288 with 1 Axes>"
      ]
     },
     "metadata": {},
     "output_type": "display_data"
    }
   ],
   "source": [
    "sns.countplot(data=dfcomb,x='Hour',hue='Month')"
   ]
  },
  {
   "cell_type": "code",
   "execution_count": 126,
   "metadata": {},
   "outputs": [
    {
     "data": {
      "text/plain": [
       "<matplotlib.axes._subplots.AxesSubplot at 0x1a3bed7470>"
      ]
     },
     "execution_count": 126,
     "metadata": {},
     "output_type": "execute_result"
    },
    {
     "data": {
      "image/png": "[encoded data removed]",
      "text/plain": [
       "<Figure size 432x288 with 1 Axes>"
      ]
     },
     "metadata": {},
     "output_type": "display_data"
    }
   ],
   "source": [
    "week=['Monday','Tuesday','Wednesday','Thursday','Friday','Saturday','Sunday']\n",
    "sns.barplot(x='Day',y='duration',data=dfcomb,order=week,hue=\"Month\")"
   ]
  },
  {
   "cell_type": "markdown",
   "metadata": {},
   "source": [
    "April being colder has less number of rides. July is a vacation month in Norway, so again less users."
   ]
  },
  {
   "cell_type": "markdown",
   "metadata": {},
   "source": [
    "## Some numbers"
   ]
  },
  {
   "cell_type": "code",
   "execution_count": 112,
   "metadata": {},
   "outputs": [
    {
     "name": "stdout",
     "output_type": "stream",
     "text": [
      "Average ride times (in minutes) for April, May, June and July are 12.532472669367852 , 13.450303707911988 , 12.45594066290842  and  13.087752932035771\n"
     ]
    }
   ],
   "source": [
    "print('Average ride times (in minutes) for April, May, June and July are',\\\n",
    "      dfcomb.duration[dfcomb.Month=='Apr'].mean(),',',\\\n",
    "      dfcomb.duration[dfcomb.Month=='May'].mean(),',',\\\n",
    "      dfcomb.duration[dfcomb.Month=='Jun'].mean(),' and ',\\\n",
    "      dfcomb.duration[dfcomb.Month=='Jul'].mean())"
   ]
  },
  {
   "cell_type": "code",
   "execution_count": 111,
   "metadata": {},
   "outputs": [
    {
     "name": "stdout",
     "output_type": "stream",
     "text": [
      "Rentals for April, May, June and July are 267313 , 494609 , 481756  and  424307\n"
     ]
    }
   ],
   "source": [
    "print('Rentals for April, May, June and July are',\\\n",
    "      dfcomb.duration[dfcomb.Month=='Apr'].count(),',',\\\n",
    "      dfcomb.duration[dfcomb.Month=='May'].count(),',',\\\n",
    "      dfcomb.duration[dfcomb.Month=='Jun'].count(),' and ',\\\n",
    "      dfcomb.duration[dfcomb.Month=='Jul'].count())"
   ]
  },
  {
   "cell_type": "markdown",
   "metadata": {},
   "source": [
    "## What are the busiest start and end points?"
   ]
  },
  {
   "cell_type": "code",
   "execution_count": 118,
   "metadata": {},
   "outputs": [],
   "source": [
    "dfcomb['Start station']=dfcomb['Start station'].apply(str)\n",
    "dfcomb['End station']=dfcomb['End station'].apply(str)"
   ]
  },
  {
   "cell_type": "code",
   "execution_count": 170,
   "metadata": {},
   "outputs": [],
   "source": [
    "dfcomb['journey']=dfcomb['Start station'].astype(str) +'->'+dfcomb['End station'].astype(str) "
   ]
  },
  {
   "cell_type": "code",
   "execution_count": 167,
   "metadata": {},
   "outputs": [
    {
     "data": {
      "text/html": [
       "<div>\n",
       "<style scoped>\n",
       "    .dataframe tbody tr th:only-of-type {\n",
       "        vertical-align: middle;\n",
       "    }\n",
       "\n",
       "    .dataframe tbody tr th {\n",
       "        vertical-align: top;\n",
       "    }\n",
       "\n",
       "    .dataframe thead th {\n",
       "        text-align: right;\n",
       "    }\n",
       "</style>\n",
       "<table border=\"1\" class=\"dataframe\">\n",
       "  <thead>\n",
       "    <tr style=\"text-align: right;\">\n",
       "      <th></th>\n",
       "      <th>rentals</th>\n",
       "      <th>avg_ride</th>\n",
       "      <th>station</th>\n",
       "    </tr>\n",
       "    <tr>\n",
       "      <th>Start station</th>\n",
       "      <th></th>\n",
       "      <th></th>\n",
       "      <th></th>\n",
       "    </tr>\n",
       "  </thead>\n",
       "  <tbody>\n",
       "    <tr>\n",
       "      <th>274</th>\n",
       "      <td>34868</td>\n",
       "      <td>14.612345</td>\n",
       "      <td>274</td>\n",
       "    </tr>\n",
       "    <tr>\n",
       "      <th>292</th>\n",
       "      <td>28565</td>\n",
       "      <td>16.090957</td>\n",
       "      <td>292</td>\n",
       "    </tr>\n",
       "    <tr>\n",
       "      <th>222</th>\n",
       "      <td>25420</td>\n",
       "      <td>13.058857</td>\n",
       "      <td>222</td>\n",
       "    </tr>\n",
       "    <tr>\n",
       "      <th>233</th>\n",
       "      <td>23743</td>\n",
       "      <td>11.928719</td>\n",
       "      <td>233</td>\n",
       "    </tr>\n",
       "    <tr>\n",
       "      <th>196</th>\n",
       "      <td>21201</td>\n",
       "      <td>11.705594</td>\n",
       "      <td>196</td>\n",
       "    </tr>\n",
       "  </tbody>\n",
       "</table>\n",
       "</div>"
      ],
      "text/plain": [
       "               rentals   avg_ride station\n",
       "Start station                            \n",
       "274              34868  14.612345     274\n",
       "292              28565  16.090957     292\n",
       "222              25420  13.058857     222\n",
       "233              23743  11.928719     233\n",
       "196              21201  11.705594     196"
      ]
     },
     "execution_count": 167,
     "metadata": {},
     "output_type": "execute_result"
    }
   ],
   "source": [
    "temp1=pd.DataFrame(dfcomb.groupby('Start station')['Day'].count())\n",
    "temp2=pd.DataFrame(dfcomb.groupby('Start station')['duration'].mean())\n",
    "start=pd.merge(temp1,temp2,on='Start station')\n",
    "start['Start station']=start.index # make index a column\n",
    "start.columns=['rentals','avg_ride','station']\n",
    "start=start.sort_values(by='rentals',ascending=False)\n",
    "start.head()"
   ]
  },
  {
   "cell_type": "code",
   "execution_count": 168,
   "metadata": {},
   "outputs": [
    {
     "data": {
      "text/html": [
       "<div>\n",
       "<style scoped>\n",
       "    .dataframe tbody tr th:only-of-type {\n",
       "        vertical-align: middle;\n",
       "    }\n",
       "\n",
       "    .dataframe tbody tr th {\n",
       "        vertical-align: top;\n",
       "    }\n",
       "\n",
       "    .dataframe thead th {\n",
       "        text-align: right;\n",
       "    }\n",
       "</style>\n",
       "<table border=\"1\" class=\"dataframe\">\n",
       "  <thead>\n",
       "    <tr style=\"text-align: right;\">\n",
       "      <th></th>\n",
       "      <th>rentals</th>\n",
       "      <th>avg_ride</th>\n",
       "      <th>station</th>\n",
       "    </tr>\n",
       "    <tr>\n",
       "      <th>End station</th>\n",
       "      <th></th>\n",
       "      <th></th>\n",
       "      <th></th>\n",
       "    </tr>\n",
       "  </thead>\n",
       "  <tbody>\n",
       "    <tr>\n",
       "      <th>274</th>\n",
       "      <td>36859</td>\n",
       "      <td>14.899911</td>\n",
       "      <td>274</td>\n",
       "    </tr>\n",
       "    <tr>\n",
       "      <th>292</th>\n",
       "      <td>30576</td>\n",
       "      <td>16.007074</td>\n",
       "      <td>292</td>\n",
       "    </tr>\n",
       "    <tr>\n",
       "      <th>222</th>\n",
       "      <td>28365</td>\n",
       "      <td>12.550261</td>\n",
       "      <td>222</td>\n",
       "    </tr>\n",
       "    <tr>\n",
       "      <th>233</th>\n",
       "      <td>23825</td>\n",
       "      <td>11.935715</td>\n",
       "      <td>233</td>\n",
       "    </tr>\n",
       "    <tr>\n",
       "      <th>465</th>\n",
       "      <td>22855</td>\n",
       "      <td>15.363719</td>\n",
       "      <td>465</td>\n",
       "    </tr>\n",
       "  </tbody>\n",
       "</table>\n",
       "</div>"
      ],
      "text/plain": [
       "             rentals   avg_ride station\n",
       "End station                            \n",
       "274            36859  14.899911     274\n",
       "292            30576  16.007074     292\n",
       "222            28365  12.550261     222\n",
       "233            23825  11.935715     233\n",
       "465            22855  15.363719     465"
      ]
     },
     "execution_count": 168,
     "metadata": {},
     "output_type": "execute_result"
    }
   ],
   "source": [
    "temp1=pd.DataFrame(dfcomb.groupby('End station')['Day'].count())\n",
    "temp2=pd.DataFrame(dfcomb.groupby('End station')['duration'].mean())\n",
    "end=pd.merge(temp1,temp2,on='End station')\n",
    "end['End station']=end.index # make index a column\n",
    "end.columns=['rentals','avg_ride','station']\n",
    "end=end.sort_values(by='rentals',ascending=False)\n",
    "end.head()"
   ]
  },
  {
   "cell_type": "markdown",
   "metadata": {},
   "source": [
    "We see that the busiest start and end points are the same: ids=274, 292, 222 and 233.\n",
    "We will see the geographical location of these points below."
   ]
  },
  {
   "cell_type": "markdown",
   "metadata": {},
   "source": [
    "## What is the most popular bike route?"
   ]
  },
  {
   "cell_type": "code",
   "execution_count": 171,
   "metadata": {},
   "outputs": [
    {
     "data": {
      "text/html": [
       "<div>\n",
       "<style scoped>\n",
       "    .dataframe tbody tr th:only-of-type {\n",
       "        vertical-align: middle;\n",
       "    }\n",
       "\n",
       "    .dataframe tbody tr th {\n",
       "        vertical-align: top;\n",
       "    }\n",
       "\n",
       "    .dataframe thead th {\n",
       "        text-align: right;\n",
       "    }\n",
       "</style>\n",
       "<table border=\"1\" class=\"dataframe\">\n",
       "  <thead>\n",
       "    <tr style=\"text-align: right;\">\n",
       "      <th></th>\n",
       "      <th>rentals</th>\n",
       "      <th>avg_ride</th>\n",
       "      <th>journey</th>\n",
       "    </tr>\n",
       "    <tr>\n",
       "      <th>journey</th>\n",
       "      <th></th>\n",
       "      <th></th>\n",
       "      <th></th>\n",
       "    </tr>\n",
       "  </thead>\n",
       "  <tbody>\n",
       "    <tr>\n",
       "      <th>204-&gt;274</th>\n",
       "      <td>3353</td>\n",
       "      <td>7.731007</td>\n",
       "      <td>204-&gt;274</td>\n",
       "    </tr>\n",
       "    <tr>\n",
       "      <th>274-&gt;204</th>\n",
       "      <td>3128</td>\n",
       "      <td>7.407460</td>\n",
       "      <td>274-&gt;204</td>\n",
       "    </tr>\n",
       "    <tr>\n",
       "      <th>274-&gt;247</th>\n",
       "      <td>2742</td>\n",
       "      <td>6.860765</td>\n",
       "      <td>274-&gt;247</td>\n",
       "    </tr>\n",
       "    <tr>\n",
       "      <th>247-&gt;274</th>\n",
       "      <td>2024</td>\n",
       "      <td>7.573732</td>\n",
       "      <td>247-&gt;274</td>\n",
       "    </tr>\n",
       "    <tr>\n",
       "      <th>274-&gt;160</th>\n",
       "      <td>1925</td>\n",
       "      <td>8.160216</td>\n",
       "      <td>274-&gt;160</td>\n",
       "    </tr>\n",
       "  </tbody>\n",
       "</table>\n",
       "</div>"
      ],
      "text/plain": [
       "          rentals  avg_ride   journey\n",
       "journey                              \n",
       "204->274     3353  7.731007  204->274\n",
       "274->204     3128  7.407460  274->204\n",
       "274->247     2742  6.860765  274->247\n",
       "247->274     2024  7.573732  247->274\n",
       "274->160     1925  8.160216  274->160"
      ]
     },
     "execution_count": 171,
     "metadata": {},
     "output_type": "execute_result"
    }
   ],
   "source": [
    "temp1=pd.DataFrame(dfcomb.groupby('journey')['Day'].count())\n",
    "temp2=pd.DataFrame(dfcomb.groupby('journey')['duration'].mean())\n",
    "s2e=pd.merge(temp1,temp2,on='journey')\n",
    "s2e['journey']=s2e.index # make index a column\n",
    "s2e.columns=['rentals','avg_ride','journey']\n",
    "s2e=s2e.sort_values(by='rentals',ascending=False)\n",
    "s2e.head()"
   ]
  },
  {
   "cell_type": "markdown",
   "metadata": {},
   "source": [
    "The most popular journeys are between ids 274 and 204."
   ]
  },
  {
   "cell_type": "markdown",
   "metadata": {},
   "source": [
    "## Getting the location of the stations\n",
    "I got the locations of the various ids by a API request to city bike webpage, see https://developer.oslobysykkel.no/api"
   ]
  },
  {
   "cell_type": "code",
   "execution_count": 172,
   "metadata": {},
   "outputs": [
    {
     "data": {
      "text/html": [
       "<div>\n",
       "<style scoped>\n",
       "    .dataframe tbody tr th:only-of-type {\n",
       "        vertical-align: middle;\n",
       "    }\n",
       "\n",
       "    .dataframe tbody tr th {\n",
       "        vertical-align: top;\n",
       "    }\n",
       "\n",
       "    .dataframe thead th {\n",
       "        text-align: right;\n",
       "    }\n",
       "</style>\n",
       "<table border=\"1\" class=\"dataframe\">\n",
       "  <thead>\n",
       "    <tr style=\"text-align: right;\">\n",
       "      <th></th>\n",
       "      <th>id</th>\n",
       "      <th>in_service</th>\n",
       "      <th>title</th>\n",
       "      <th>subtitle</th>\n",
       "      <th>number_of_locks</th>\n",
       "      <th>center</th>\n",
       "      <th>bounds</th>\n",
       "    </tr>\n",
       "  </thead>\n",
       "  <tbody>\n",
       "    <tr>\n",
       "      <th>0</th>\n",
       "      <td>157</td>\n",
       "      <td>True</td>\n",
       "      <td>Nylandsveien</td>\n",
       "      <td>mellom Norbygata og Urtegata</td>\n",
       "      <td>30</td>\n",
       "      <td>{'latitude': 59.91562, 'longitude': 10.762248}</td>\n",
       "      <td>[{'latitude': 59.915417, 'longitude': 10.76206...</td>\n",
       "    </tr>\n",
       "    <tr>\n",
       "      <th>1</th>\n",
       "      <td>158</td>\n",
       "      <td>True</td>\n",
       "      <td>Bentsebrugata</td>\n",
       "      <td>rett over busstoppet</td>\n",
       "      <td>24</td>\n",
       "      <td>{'latitude': 59.939194, 'longitude': 10.759168}</td>\n",
       "      <td>[{'latitude': 59.939, 'longitude': 10.758989},...</td>\n",
       "    </tr>\n",
       "    <tr>\n",
       "      <th>2</th>\n",
       "      <td>159</td>\n",
       "      <td>True</td>\n",
       "      <td>Hans Nielsen Hauges plass</td>\n",
       "      <td>Mellom Åsengata og Nordkappgata</td>\n",
       "      <td>21</td>\n",
       "      <td>{'latitude': 59.939262, 'longitude': 10.774296}</td>\n",
       "      <td>[{'latitude': 59.939117, 'longitude': 10.77443...</td>\n",
       "    </tr>\n",
       "    <tr>\n",
       "      <th>3</th>\n",
       "      <td>160</td>\n",
       "      <td>True</td>\n",
       "      <td>Sjøsiden vest</td>\n",
       "      <td>nærmest fontenen</td>\n",
       "      <td>50</td>\n",
       "      <td>{'latitude': 59.910213, 'longitude': 10.751687}</td>\n",
       "      <td>[{'latitude': 59.910183, 'longitude': 10.75139...</td>\n",
       "    </tr>\n",
       "    <tr>\n",
       "      <th>4</th>\n",
       "      <td>161</td>\n",
       "      <td>True</td>\n",
       "      <td>St. Hanshaugen park vest</td>\n",
       "      <td>ved busstoppet Colletts gate</td>\n",
       "      <td>20</td>\n",
       "      <td>{'latitude': 59.926872, 'longitude': 10.738456}</td>\n",
       "      <td>[{'latitude': 59.92678, 'longitude': 10.738284...</td>\n",
       "    </tr>\n",
       "  </tbody>\n",
       "</table>\n",
       "</div>"
      ],
      "text/plain": [
       "    id  in_service                      title  \\\n",
       "0  157        True               Nylandsveien   \n",
       "1  158        True              Bentsebrugata   \n",
       "2  159        True  Hans Nielsen Hauges plass   \n",
       "3  160        True              Sjøsiden vest   \n",
       "4  161        True   St. Hanshaugen park vest   \n",
       "\n",
       "                          subtitle  number_of_locks  \\\n",
       "0     mellom Norbygata og Urtegata               30   \n",
       "1             rett over busstoppet               24   \n",
       "2  Mellom Åsengata og Nordkappgata               21   \n",
       "3                 nærmest fontenen               50   \n",
       "4     ved busstoppet Colletts gate               20   \n",
       "\n",
       "                                            center  \\\n",
       "0   {'latitude': 59.91562, 'longitude': 10.762248}   \n",
       "1  {'latitude': 59.939194, 'longitude': 10.759168}   \n",
       "2  {'latitude': 59.939262, 'longitude': 10.774296}   \n",
       "3  {'latitude': 59.910213, 'longitude': 10.751687}   \n",
       "4  {'latitude': 59.926872, 'longitude': 10.738456}   \n",
       "\n",
       "                                              bounds  \n",
       "0  [{'latitude': 59.915417, 'longitude': 10.76206...  \n",
       "1  [{'latitude': 59.939, 'longitude': 10.758989},...  \n",
       "2  [{'latitude': 59.939117, 'longitude': 10.77443...  \n",
       "3  [{'latitude': 59.910183, 'longitude': 10.75139...  \n",
       "4  [{'latitude': 59.92678, 'longitude': 10.738284...  "
      ]
     },
     "execution_count": 172,
     "metadata": {},
     "output_type": "execute_result"
    }
   ],
   "source": [
    "with open('stations.json') as f:\n",
    "    data = json.load(f)\n",
    "stationloc=pd.DataFrame(data)\n",
    "stationloc=stationloc.stations.apply(pd.Series)\n",
    "stationloc.head()"
   ]
  },
  {
   "cell_type": "markdown",
   "metadata": {},
   "source": [
    "Let's now find the names of our most popular station ids"
   ]
  },
  {
   "cell_type": "code",
   "execution_count": 180,
   "metadata": {},
   "outputs": [
    {
     "data": {
      "text/html": [
       "<div>\n",
       "<style scoped>\n",
       "    .dataframe tbody tr th:only-of-type {\n",
       "        vertical-align: middle;\n",
       "    }\n",
       "\n",
       "    .dataframe tbody tr th {\n",
       "        vertical-align: top;\n",
       "    }\n",
       "\n",
       "    .dataframe thead th {\n",
       "        text-align: right;\n",
       "    }\n",
       "</style>\n",
       "<table border=\"1\" class=\"dataframe\">\n",
       "  <thead>\n",
       "    <tr style=\"text-align: right;\">\n",
       "      <th></th>\n",
       "      <th>id</th>\n",
       "      <th>in_service</th>\n",
       "      <th>title</th>\n",
       "      <th>subtitle</th>\n",
       "      <th>number_of_locks</th>\n",
       "      <th>center</th>\n",
       "      <th>bounds</th>\n",
       "    </tr>\n",
       "  </thead>\n",
       "  <tbody>\n",
       "    <tr>\n",
       "      <th>3</th>\n",
       "      <td>160</td>\n",
       "      <td>True</td>\n",
       "      <td>Sjøsiden vest</td>\n",
       "      <td>nærmest fontenen</td>\n",
       "      <td>50</td>\n",
       "      <td>{'latitude': 59.910213, 'longitude': 10.751687}</td>\n",
       "      <td>[{'latitude': 59.910183, 'longitude': 10.75139...</td>\n",
       "    </tr>\n",
       "    <tr>\n",
       "      <th>35</th>\n",
       "      <td>196</td>\n",
       "      <td>True</td>\n",
       "      <td>Ringnes Park</td>\n",
       "      <td>ved Sannergata</td>\n",
       "      <td>18</td>\n",
       "      <td>{'latitude': 59.92841, 'longitude': 10.759368}</td>\n",
       "      <td>[{'latitude': 59.928394, 'longitude': 10.75920...</td>\n",
       "    </tr>\n",
       "    <tr>\n",
       "      <th>42</th>\n",
       "      <td>204</td>\n",
       "      <td>True</td>\n",
       "      <td>Paléhaven</td>\n",
       "      <td>langs Strandgata</td>\n",
       "      <td>48</td>\n",
       "      <td>{'latitude': 59.910286, 'longitude': 10.750012}</td>\n",
       "      <td>[{'latitude': 59.910122, 'longitude': 10.74978...</td>\n",
       "    </tr>\n",
       "    <tr>\n",
       "      <th>59</th>\n",
       "      <td>222</td>\n",
       "      <td>True</td>\n",
       "      <td>Olaf Ryes plass</td>\n",
       "      <td>ved Sofienberggata</td>\n",
       "      <td>35</td>\n",
       "      <td>{'latitude': 59.922413, 'longitude': 10.758127}</td>\n",
       "      <td>[{'latitude': 59.92237, 'longitude': 10.757882...</td>\n",
       "    </tr>\n",
       "    <tr>\n",
       "      <th>70</th>\n",
       "      <td>233</td>\n",
       "      <td>True</td>\n",
       "      <td>Alexander Kiellands Plass</td>\n",
       "      <td>ved Maridalsveien</td>\n",
       "      <td>25</td>\n",
       "      <td>{'latitude': 59.92805, 'longitude': 10.751203}</td>\n",
       "      <td>[{'latitude': 59.92801, 'longitude': 10.750954...</td>\n",
       "    </tr>\n",
       "    <tr>\n",
       "      <th>106</th>\n",
       "      <td>274</td>\n",
       "      <td>True</td>\n",
       "      <td>Sukkerbiten</td>\n",
       "      <td>ved gangbroen til Sørenga</td>\n",
       "      <td>36</td>\n",
       "      <td>{'latitude': 59.90503, 'longitude': 10.753658}</td>\n",
       "      <td>[{'latitude': 59.905354, 'longitude': 10.75349...</td>\n",
       "    </tr>\n",
       "    <tr>\n",
       "      <th>119</th>\n",
       "      <td>292</td>\n",
       "      <td>True</td>\n",
       "      <td>Tjuvholmen</td>\n",
       "      <td>nedenfor bussholdeplassen</td>\n",
       "      <td>30</td>\n",
       "      <td>{'latitude': 59.909508, 'longitude': 10.722561}</td>\n",
       "      <td>[{'latitude': 59.90933, 'longitude': 10.72235}...</td>\n",
       "    </tr>\n",
       "    <tr>\n",
       "      <th>211</th>\n",
       "      <td>465</td>\n",
       "      <td>True</td>\n",
       "      <td>Rådhusbrygge 4</td>\n",
       "      <td>ved Nesoddbåten</td>\n",
       "      <td>40</td>\n",
       "      <td>{'latitude': 59.91082, 'longitude': 10.730321}</td>\n",
       "      <td>[{'latitude': 59.910793, 'longitude': 10.73010...</td>\n",
       "    </tr>\n",
       "  </tbody>\n",
       "</table>\n",
       "</div>"
      ],
      "text/plain": [
       "      id  in_service                      title                   subtitle  \\\n",
       "3    160        True              Sjøsiden vest           nærmest fontenen   \n",
       "35   196        True               Ringnes Park             ved Sannergata   \n",
       "42   204        True                  Paléhaven           langs Strandgata   \n",
       "59   222        True            Olaf Ryes plass         ved Sofienberggata   \n",
       "70   233        True  Alexander Kiellands Plass          ved Maridalsveien   \n",
       "106  274        True                Sukkerbiten  ved gangbroen til Sørenga   \n",
       "119  292        True                 Tjuvholmen  nedenfor bussholdeplassen   \n",
       "211  465        True             Rådhusbrygge 4            ved Nesoddbåten   \n",
       "\n",
       "     number_of_locks                                           center  \\\n",
       "3                 50  {'latitude': 59.910213, 'longitude': 10.751687}   \n",
       "35                18   {'latitude': 59.92841, 'longitude': 10.759368}   \n",
       "42                48  {'latitude': 59.910286, 'longitude': 10.750012}   \n",
       "59                35  {'latitude': 59.922413, 'longitude': 10.758127}   \n",
       "70                25   {'latitude': 59.92805, 'longitude': 10.751203}   \n",
       "106               36   {'latitude': 59.90503, 'longitude': 10.753658}   \n",
       "119               30  {'latitude': 59.909508, 'longitude': 10.722561}   \n",
       "211               40   {'latitude': 59.91082, 'longitude': 10.730321}   \n",
       "\n",
       "                                                bounds  \n",
       "3    [{'latitude': 59.910183, 'longitude': 10.75139...  \n",
       "35   [{'latitude': 59.928394, 'longitude': 10.75920...  \n",
       "42   [{'latitude': 59.910122, 'longitude': 10.74978...  \n",
       "59   [{'latitude': 59.92237, 'longitude': 10.757882...  \n",
       "70   [{'latitude': 59.92801, 'longitude': 10.750954...  \n",
       "106  [{'latitude': 59.905354, 'longitude': 10.75349...  \n",
       "119  [{'latitude': 59.90933, 'longitude': 10.72235}...  \n",
       "211  [{'latitude': 59.910793, 'longitude': 10.73010...  "
      ]
     },
     "execution_count": 180,
     "metadata": {},
     "output_type": "execute_result"
    }
   ],
   "source": [
    "stationloc[(stationloc.id==274)| (stationloc.id==204)| (stationloc.id==292)| \\\n",
    "           (stationloc.id==222)| (stationloc.id==233)| (stationloc.id==196)| \\\n",
    "           (stationloc.id==160)| (stationloc.id==465)]"
   ]
  },
  {
   "cell_type": "code",
   "execution_count": 214,
   "metadata": {},
   "outputs": [
    {
     "data": {
      "text/html": [
       "<iframe src=plot_data.html width=700 height=450></iframe>"
      ],
      "text/plain": [
       "<IPython.core.display.HTML object>"
      ]
     },
     "execution_count": 214,
     "metadata": {},
     "output_type": "execute_result"
    }
   ],
   "source": [
    "#Visulaization on map\n",
    "oslo_coordinates = (59.909508,10.753658)\n",
    "m = folium.Map(location=oslo_coordinates, zoom_start=15)\n",
    "folium.Marker([59.905354,10.75349],popup=folium.Popup('274')).add_to(m)\n",
    "folium.Marker([59.910122,10.74978],popup=folium.Popup('204')).add_to(m)\n",
    "m.save('plot_data.html')\n",
    "from IPython.display import HTML\n",
    "HTML('<iframe src=plot_data.html width=700 height=450></iframe>')"
   ]
  },
  {
   "cell_type": "markdown",
   "metadata": {},
   "source": [
    "The stations 274 and 204 are marked on the above map. \n",
    "\n",
    "Location 204 is near the Oslo central railway station and is the central node in the bus, metro and train networks. \n",
    "\n",
    "Location 274 or Sørenga is one of the best places for swimming in Oslo. See the pic below to get an idea of how popular it was during the hot summer of 2018 :)\n",
    "Image credits: Aftenposten https://www.aftenposten.no/osloby/i/OnJO1A/Gjennomforer-ordenstiltak-etter-Sorenga-kaos\n",
    "\n",
    "Presently, riding a bike or walking are the best ways of going between the two stations. The most probable reason for the huge bike-traffic between the two points is that people come to downtown Oslo (id 204) by bus/tram/metro/train from their homes and then ride a bike to get to Sørenga."
   ]
  },
  {
   "cell_type": "markdown",
   "metadata": {},
   "source": [
    "![title](sorenga.jpeg)"
   ]
  },
  {
   "cell_type": "code",
   "execution_count": null,
   "metadata": {},
   "outputs": [],
   "source": []
  }
 ],
 "metadata": {
  "kernelspec": {
   "display_name": "Python 3",
   "language": "python",
   "name": "python3"
  },
  "language_info": {
   "codemirror_mode": {
    "name": "ipython",
    "version": 3
   },
   "file_extension": ".py",
   "mimetype": "text/x-python",
   "name": "python",
   "nbconvert_exporter": "python",
   "pygments_lexer": "ipython3",
   "version": "3.6.5"
  }
 },
 "nbformat": 4,
 "nbformat_minor": 2
}
