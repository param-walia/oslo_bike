{
 "cells": [
  {
   "cell_type": "code",
   "execution_count": 226,
   "metadata": {},
   "outputs": [],
   "source": [
    "import pandas as pd\n",
    "import numpy as np\n",
    "import seaborn as sns\n",
    "import matplotlib as plt\n",
    "%matplotlib inline"
   ]
  },
  {
   "cell_type": "code",
   "execution_count": 305,
   "metadata": {},
   "outputs": [],
   "source": [
    "march18=pd.read_csv('trips-2018.3.1-2018.3.31.csv',parse_dates=['Start time','End time'])\n",
    "april18=pd.read_csv('trips-2018.4.1-2018.4.30.csv',parse_dates=['Start time','End time'])\n",
    "may18=pd.read_csv('trips-2018.5.1-2018.5.31.csv',parse_dates=['Start time','End time'])\n",
    "june18=pd.read_csv('trips-2018.6.1-2018.6.30.csv',parse_dates=['Start time','End time'])\n",
    "july18=pd.read_csv('trips-2018.7.1-2018.7.31.csv',parse_dates=['Start time','End time'])"
   ]
  },
  {
   "cell_type": "code",
   "execution_count": 245,
   "metadata": {},
   "outputs": [
    {
     "data": {
      "text/html": [
       "<div>\n",
       "<style scoped>\n",
       "    .dataframe tbody tr th:only-of-type {\n",
       "        vertical-align: middle;\n",
       "    }\n",
       "\n",
       "    .dataframe tbody tr th {\n",
       "        vertical-align: top;\n",
       "    }\n",
       "\n",
       "    .dataframe thead th {\n",
       "        text-align: right;\n",
       "    }\n",
       "</style>\n",
       "<table border=\"1\" class=\"dataframe\">\n",
       "  <thead>\n",
       "    <tr style=\"text-align: right;\">\n",
       "      <th></th>\n",
       "      <th>Start station</th>\n",
       "      <th>Start time</th>\n",
       "      <th>End station</th>\n",
       "      <th>End time</th>\n",
       "    </tr>\n",
       "  </thead>\n",
       "  <tbody>\n",
       "    <tr>\n",
       "      <th>0</th>\n",
       "      <td>207</td>\n",
       "      <td>2018-07-01 04:00:15</td>\n",
       "      <td>177</td>\n",
       "      <td>2018-07-01 04:06:37</td>\n",
       "    </tr>\n",
       "    <tr>\n",
       "      <th>1</th>\n",
       "      <td>189</td>\n",
       "      <td>2018-07-01 04:00:34</td>\n",
       "      <td>203</td>\n",
       "      <td>2018-07-01 04:05:38</td>\n",
       "    </tr>\n",
       "    <tr>\n",
       "      <th>2</th>\n",
       "      <td>470</td>\n",
       "      <td>2018-07-01 04:00:38</td>\n",
       "      <td>247</td>\n",
       "      <td>2018-07-01 04:07:39</td>\n",
       "    </tr>\n",
       "    <tr>\n",
       "      <th>3</th>\n",
       "      <td>246</td>\n",
       "      <td>2018-07-01 04:00:46</td>\n",
       "      <td>242</td>\n",
       "      <td>2018-07-01 04:11:59</td>\n",
       "    </tr>\n",
       "    <tr>\n",
       "      <th>4</th>\n",
       "      <td>222</td>\n",
       "      <td>2018-07-01 04:00:55</td>\n",
       "      <td>247</td>\n",
       "      <td>2018-07-01 04:08:52</td>\n",
       "    </tr>\n",
       "  </tbody>\n",
       "</table>\n",
       "</div>"
      ],
      "text/plain": [
       "   Start station          Start time  End station            End time\n",
       "0            207 2018-07-01 04:00:15          177 2018-07-01 04:06:37\n",
       "1            189 2018-07-01 04:00:34          203 2018-07-01 04:05:38\n",
       "2            470 2018-07-01 04:00:38          247 2018-07-01 04:07:39\n",
       "3            246 2018-07-01 04:00:46          242 2018-07-01 04:11:59\n",
       "4            222 2018-07-01 04:00:55          247 2018-07-01 04:08:52"
      ]
     },
     "execution_count": 245,
     "metadata": {},
     "output_type": "execute_result"
    }
   ],
   "source": [
    "july18.head()"
   ]
  },
  {
   "cell_type": "code",
   "execution_count": 306,
   "metadata": {},
   "outputs": [
    {
     "name": "stdout",
     "output_type": "stream",
     "text": [
      "March, (9, 4)\n",
      "April, (270760, 4)\n",
      "May, (499833, 4)\n",
      "June, (486945, 4)\n",
      "July, (429168, 4)\n"
     ]
    }
   ],
   "source": [
    "print('March,',march18.shape)\n",
    "print('April,',april18.shape)\n",
    "print('May,',may18.shape)\n",
    "print('June,',june18.shape)\n",
    "print('July,',july18.shape)"
   ]
  },
  {
   "cell_type": "code",
   "execution_count": 307,
   "metadata": {},
   "outputs": [],
   "source": [
    "march18['duration']= ((march18['End time']-march18['Start time']).dt.total_seconds())/60.0\n",
    "april18['duration']= ((april18['End time']-april18['Start time']).dt.total_seconds())/60.0\n",
    "may18['duration']= ((may18['End time']-may18['Start time']).dt.total_seconds())/60.0\n",
    "june18['duration']= ((june18['End time']-june18['Start time']).dt.total_seconds())/60.0\n",
    "july18['duration']= ((july18['End time']-july18['Start time']).dt.total_seconds())/60.0"
   ]
  },
  {
   "cell_type": "code",
   "execution_count": 308,
   "metadata": {},
   "outputs": [
    {
     "name": "stdout",
     "output_type": "stream",
     "text": [
      "775.5163500000897 970.3680000000634 722.5320000000472 534.6788833335461\n"
     ]
    }
   ],
   "source": [
    "jul99=july18['duration'].quantile(0.999)\n",
    "jun99=june18['duration'].quantile(0.999)\n",
    "may99=may18['duration'].quantile(0.999)\n",
    "apr99=april18['duration'].quantile(0.999)\n",
    "print(apr99,may99,jun99,jul99)"
   ]
  },
  {
   "cell_type": "code",
   "execution_count": 309,
   "metadata": {},
   "outputs": [
    {
     "data": {
      "text/plain": [
       "Start station    430\n",
       "Start time       430\n",
       "End station      430\n",
       "End time         430\n",
       "duration         430\n",
       "dtype: int64"
      ]
     },
     "execution_count": 309,
     "metadata": {},
     "output_type": "execute_result"
    }
   ],
   "source": [
    "july18[(july18['duration']>jul99)].count()"
   ]
  },
  {
   "cell_type": "code",
   "execution_count": 310,
   "metadata": {},
   "outputs": [
    {
     "data": {
      "text/plain": [
       "Start station    69\n",
       "Start time       69\n",
       "End station      69\n",
       "End time         69\n",
       "duration         69\n",
       "dtype: int64"
      ]
     },
     "execution_count": 310,
     "metadata": {},
     "output_type": "execute_result"
    }
   ],
   "source": [
    "july18[(july18['duration']<0)].count()"
   ]
  },
  {
   "cell_type": "code",
   "execution_count": 311,
   "metadata": {},
   "outputs": [
    {
     "data": {
      "text/html": [
       "<div>\n",
       "<style scoped>\n",
       "    .dataframe tbody tr th:only-of-type {\n",
       "        vertical-align: middle;\n",
       "    }\n",
       "\n",
       "    .dataframe tbody tr th {\n",
       "        vertical-align: top;\n",
       "    }\n",
       "\n",
       "    .dataframe thead th {\n",
       "        text-align: right;\n",
       "    }\n",
       "</style>\n",
       "<table border=\"1\" class=\"dataframe\">\n",
       "  <thead>\n",
       "    <tr style=\"text-align: right;\">\n",
       "      <th></th>\n",
       "      <th>Start station</th>\n",
       "      <th>Start time</th>\n",
       "      <th>End station</th>\n",
       "      <th>End time</th>\n",
       "      <th>duration</th>\n",
       "    </tr>\n",
       "  </thead>\n",
       "  <tbody>\n",
       "    <tr>\n",
       "      <th>17221</th>\n",
       "      <td>222</td>\n",
       "      <td>2018-07-02 12:26:35</td>\n",
       "      <td>222</td>\n",
       "      <td>2018-07-02 12:26:34</td>\n",
       "      <td>-0.016667</td>\n",
       "    </tr>\n",
       "    <tr>\n",
       "      <th>17278</th>\n",
       "      <td>222</td>\n",
       "      <td>2018-07-02 12:29:37</td>\n",
       "      <td>222</td>\n",
       "      <td>2018-07-02 12:29:36</td>\n",
       "      <td>-0.016667</td>\n",
       "    </tr>\n",
       "    <tr>\n",
       "      <th>17279</th>\n",
       "      <td>222</td>\n",
       "      <td>2018-07-02 12:29:40</td>\n",
       "      <td>222</td>\n",
       "      <td>2018-07-02 12:29:39</td>\n",
       "      <td>-0.016667</td>\n",
       "    </tr>\n",
       "    <tr>\n",
       "      <th>21373</th>\n",
       "      <td>167</td>\n",
       "      <td>2018-07-02 15:01:39</td>\n",
       "      <td>167</td>\n",
       "      <td>2018-07-02 15:00:59</td>\n",
       "      <td>-0.666667</td>\n",
       "    </tr>\n",
       "    <tr>\n",
       "      <th>106486</th>\n",
       "      <td>337</td>\n",
       "      <td>2018-07-07 16:58:31</td>\n",
       "      <td>337</td>\n",
       "      <td>2018-07-07 16:58:30</td>\n",
       "      <td>-0.016667</td>\n",
       "    </tr>\n",
       "  </tbody>\n",
       "</table>\n",
       "</div>"
      ],
      "text/plain": [
       "        Start station          Start time  End station            End time  \\\n",
       "17221             222 2018-07-02 12:26:35          222 2018-07-02 12:26:34   \n",
       "17278             222 2018-07-02 12:29:37          222 2018-07-02 12:29:36   \n",
       "17279             222 2018-07-02 12:29:40          222 2018-07-02 12:29:39   \n",
       "21373             167 2018-07-02 15:01:39          167 2018-07-02 15:00:59   \n",
       "106486            337 2018-07-07 16:58:31          337 2018-07-07 16:58:30   \n",
       "\n",
       "        duration  \n",
       "17221  -0.016667  \n",
       "17278  -0.016667  \n",
       "17279  -0.016667  \n",
       "21373  -0.666667  \n",
       "106486 -0.016667  "
      ]
     },
     "execution_count": 311,
     "metadata": {},
     "output_type": "execute_result"
    }
   ],
   "source": [
    "july18[(july18['duration']<0)].head(5)"
   ]
  },
  {
   "cell_type": "code",
   "execution_count": 312,
   "metadata": {},
   "outputs": [
    {
     "data": {
      "text/html": [
       "<div>\n",
       "<style scoped>\n",
       "    .dataframe tbody tr th:only-of-type {\n",
       "        vertical-align: middle;\n",
       "    }\n",
       "\n",
       "    .dataframe tbody tr th {\n",
       "        vertical-align: top;\n",
       "    }\n",
       "\n",
       "    .dataframe thead th {\n",
       "        text-align: right;\n",
       "    }\n",
       "</style>\n",
       "<table border=\"1\" class=\"dataframe\">\n",
       "  <thead>\n",
       "    <tr style=\"text-align: right;\">\n",
       "      <th></th>\n",
       "      <th>Start station</th>\n",
       "      <th>Start time</th>\n",
       "      <th>End station</th>\n",
       "      <th>End time</th>\n",
       "      <th>duration</th>\n",
       "    </tr>\n",
       "  </thead>\n",
       "  <tbody>\n",
       "    <tr>\n",
       "      <th>3293</th>\n",
       "      <td>290</td>\n",
       "      <td>2018-07-01 12:30:39</td>\n",
       "      <td>182</td>\n",
       "      <td>2018-07-05 18:25:03</td>\n",
       "      <td>6114.400000</td>\n",
       "    </tr>\n",
       "    <tr>\n",
       "      <th>4992</th>\n",
       "      <td>390</td>\n",
       "      <td>2018-07-01 14:31:35</td>\n",
       "      <td>260</td>\n",
       "      <td>2018-07-02 09:05:01</td>\n",
       "      <td>1113.433333</td>\n",
       "    </tr>\n",
       "    <tr>\n",
       "      <th>5910</th>\n",
       "      <td>405</td>\n",
       "      <td>2018-07-01 15:32:01</td>\n",
       "      <td>191</td>\n",
       "      <td>2018-07-02 09:15:27</td>\n",
       "      <td>1063.433333</td>\n",
       "    </tr>\n",
       "    <tr>\n",
       "      <th>5950</th>\n",
       "      <td>351</td>\n",
       "      <td>2018-07-01 15:34:22</td>\n",
       "      <td>260</td>\n",
       "      <td>2018-07-02 09:12:30</td>\n",
       "      <td>1058.133333</td>\n",
       "    </tr>\n",
       "    <tr>\n",
       "      <th>6697</th>\n",
       "      <td>200</td>\n",
       "      <td>2018-07-01 16:20:11</td>\n",
       "      <td>278</td>\n",
       "      <td>2018-07-02 09:53:56</td>\n",
       "      <td>1053.750000</td>\n",
       "    </tr>\n",
       "  </tbody>\n",
       "</table>\n",
       "</div>"
      ],
      "text/plain": [
       "      Start station          Start time  End station            End time  \\\n",
       "3293            290 2018-07-01 12:30:39          182 2018-07-05 18:25:03   \n",
       "4992            390 2018-07-01 14:31:35          260 2018-07-02 09:05:01   \n",
       "5910            405 2018-07-01 15:32:01          191 2018-07-02 09:15:27   \n",
       "5950            351 2018-07-01 15:34:22          260 2018-07-02 09:12:30   \n",
       "6697            200 2018-07-01 16:20:11          278 2018-07-02 09:53:56   \n",
       "\n",
       "         duration  \n",
       "3293  6114.400000  \n",
       "4992  1113.433333  \n",
       "5910  1063.433333  \n",
       "5950  1058.133333  \n",
       "6697  1053.750000  "
      ]
     },
     "execution_count": 312,
     "metadata": {},
     "output_type": "execute_result"
    }
   ],
   "source": [
    "july18[(july18['duration']>1000)].head()"
   ]
  },
  {
   "cell_type": "code",
   "execution_count": 253,
   "metadata": {},
   "outputs": [
    {
     "data": {
      "text/html": [
       "<div>\n",
       "<style scoped>\n",
       "    .dataframe tbody tr th:only-of-type {\n",
       "        vertical-align: middle;\n",
       "    }\n",
       "\n",
       "    .dataframe tbody tr th {\n",
       "        vertical-align: top;\n",
       "    }\n",
       "\n",
       "    .dataframe thead th {\n",
       "        text-align: right;\n",
       "    }\n",
       "</style>\n",
       "<table border=\"1\" class=\"dataframe\">\n",
       "  <thead>\n",
       "    <tr style=\"text-align: right;\">\n",
       "      <th></th>\n",
       "      <th>Start station</th>\n",
       "      <th>End station</th>\n",
       "      <th>duration</th>\n",
       "    </tr>\n",
       "  </thead>\n",
       "  <tbody>\n",
       "    <tr>\n",
       "      <th>count</th>\n",
       "      <td>429168.000000</td>\n",
       "      <td>429168.000000</td>\n",
       "      <td>429168.000000</td>\n",
       "    </tr>\n",
       "    <tr>\n",
       "      <th>mean</th>\n",
       "      <td>287.579582</td>\n",
       "      <td>288.475308</td>\n",
       "      <td>15.211437</td>\n",
       "    </tr>\n",
       "    <tr>\n",
       "      <th>std</th>\n",
       "      <td>90.196776</td>\n",
       "      <td>90.332620</td>\n",
       "      <td>102.361138</td>\n",
       "    </tr>\n",
       "    <tr>\n",
       "      <th>min</th>\n",
       "      <td>157.000000</td>\n",
       "      <td>157.000000</td>\n",
       "      <td>-0.683333</td>\n",
       "    </tr>\n",
       "    <tr>\n",
       "      <th>25%</th>\n",
       "      <td>211.000000</td>\n",
       "      <td>211.000000</td>\n",
       "      <td>5.583333</td>\n",
       "    </tr>\n",
       "    <tr>\n",
       "      <th>50%</th>\n",
       "      <td>272.000000</td>\n",
       "      <td>273.000000</td>\n",
       "      <td>9.400000</td>\n",
       "    </tr>\n",
       "    <tr>\n",
       "      <th>75%</th>\n",
       "      <td>365.000000</td>\n",
       "      <td>365.000000</td>\n",
       "      <td>15.950000</td>\n",
       "    </tr>\n",
       "    <tr>\n",
       "      <th>max</th>\n",
       "      <td>486.000000</td>\n",
       "      <td>486.000000</td>\n",
       "      <td>30254.466667</td>\n",
       "    </tr>\n",
       "  </tbody>\n",
       "</table>\n",
       "</div>"
      ],
      "text/plain": [
       "       Start station    End station       duration\n",
       "count  429168.000000  429168.000000  429168.000000\n",
       "mean      287.579582     288.475308      15.211437\n",
       "std        90.196776      90.332620     102.361138\n",
       "min       157.000000     157.000000      -0.683333\n",
       "25%       211.000000     211.000000       5.583333\n",
       "50%       272.000000     273.000000       9.400000\n",
       "75%       365.000000     365.000000      15.950000\n",
       "max       486.000000     486.000000   30254.466667"
      ]
     },
     "execution_count": 253,
     "metadata": {},
     "output_type": "execute_result"
    }
   ],
   "source": [
    "july18.describe()"
   ]
  },
  {
   "cell_type": "code",
   "execution_count": 313,
   "metadata": {},
   "outputs": [],
   "source": [
    "july18=july18.drop(july18[(july18['duration']>jul99)|(july18['duration']<1)].index)\n",
    "june18=june18.drop(june18[(june18['duration']>jun99)|(june18['duration']<1)].index)\n",
    "may18=may18.drop(may18[(may18['duration']>may99)|(may18['duration']<1)].index)\n",
    "april18=april18.drop(april18[(april18['duration']>apr99)|(april18['duration']<1)].index)"
   ]
  },
  {
   "cell_type": "code",
   "execution_count": 314,
   "metadata": {},
   "outputs": [
    {
     "data": {
      "text/plain": [
       "(412169, 5)"
      ]
     },
     "execution_count": 314,
     "metadata": {},
     "output_type": "execute_result"
    }
   ],
   "source": [
    "july18.shape"
   ]
  },
  {
   "cell_type": "code",
   "execution_count": 315,
   "metadata": {},
   "outputs": [],
   "source": [
    "march18['Date']=march18['Start time'].dt.date\n",
    "april18['Date']=april18['Start time'].dt.date\n",
    "may18['Date']=may18['Start time'].dt.date\n",
    "june18['Date']=june18['Start time'].dt.date\n",
    "july18['Date']=july18['Start time'].dt.date"
   ]
  },
  {
   "cell_type": "code",
   "execution_count": 316,
   "metadata": {},
   "outputs": [],
   "source": [
    "march18['day']=march18['Start time'].dt.weekday_name\n",
    "april18['day']=april18['Start time'].dt.weekday_name\n",
    "may18['day']=may18['Start time'].dt.weekday_name\n",
    "june18['day']=june18['Start time'].dt.weekday_name\n",
    "july18['day']=july18['Start time'].dt.weekday_name"
   ]
  },
  {
   "cell_type": "code",
   "execution_count": 317,
   "metadata": {},
   "outputs": [],
   "source": [
    "march18['month']='March'\n",
    "april18['month']='April'\n",
    "may18['month']='May'\n",
    "june18['month']='June'\n",
    "july18['month']='July'"
   ]
  },
  {
   "cell_type": "code",
   "execution_count": 318,
   "metadata": {},
   "outputs": [],
   "source": [
    "july18['Start station']=july18['Start station'].apply(str)\n",
    "july18['End station']=july18['End station'].apply(str)\n",
    "\n",
    "june18['Start station']=june18['Start station'].apply(str)\n",
    "june18['End station']=june18['End station'].apply(str)\n",
    "\n",
    "may18['Start station']=may18['Start station'].apply(str)\n",
    "may18['End station']=may18['End station'].apply(str)\n",
    "\n",
    "april18['Start station']=april18['Start station'].apply(str)\n",
    "april18['End station']=april18['End station'].apply(str)"
   ]
  },
  {
   "cell_type": "code",
   "execution_count": 319,
   "metadata": {},
   "outputs": [],
   "source": [
    "july18['journey']=july18['Start station'].astype(str) +july18['End station'].astype(str) \n",
    "june18['journey']=june18['Start station'].astype(str) +june18['End station'].astype(str) \n",
    "may18['journey']=may18['Start station'].astype(str) +may18['End station'].astype(str) \n",
    "april18['journey']=april18['Start station'].astype(str) +april18['End station'].astype(str) "
   ]
  },
  {
   "cell_type": "code",
   "execution_count": 320,
   "metadata": {},
   "outputs": [
    {
     "data": {
      "text/html": [
       "<div>\n",
       "<style scoped>\n",
       "    .dataframe tbody tr th:only-of-type {\n",
       "        vertical-align: middle;\n",
       "    }\n",
       "\n",
       "    .dataframe tbody tr th {\n",
       "        vertical-align: top;\n",
       "    }\n",
       "\n",
       "    .dataframe thead th {\n",
       "        text-align: right;\n",
       "    }\n",
       "</style>\n",
       "<table border=\"1\" class=\"dataframe\">\n",
       "  <thead>\n",
       "    <tr style=\"text-align: right;\">\n",
       "      <th></th>\n",
       "      <th>Start station</th>\n",
       "      <th>Start time</th>\n",
       "      <th>End station</th>\n",
       "      <th>End time</th>\n",
       "      <th>duration</th>\n",
       "      <th>Date</th>\n",
       "      <th>day</th>\n",
       "      <th>month</th>\n",
       "      <th>journey</th>\n",
       "    </tr>\n",
       "  </thead>\n",
       "  <tbody>\n",
       "    <tr>\n",
       "      <th>0</th>\n",
       "      <td>207</td>\n",
       "      <td>2018-07-01 04:00:15</td>\n",
       "      <td>177</td>\n",
       "      <td>2018-07-01 04:06:37</td>\n",
       "      <td>6.366667</td>\n",
       "      <td>2018-07-01</td>\n",
       "      <td>Sunday</td>\n",
       "      <td>July</td>\n",
       "      <td>207177</td>\n",
       "    </tr>\n",
       "    <tr>\n",
       "      <th>1</th>\n",
       "      <td>189</td>\n",
       "      <td>2018-07-01 04:00:34</td>\n",
       "      <td>203</td>\n",
       "      <td>2018-07-01 04:05:38</td>\n",
       "      <td>5.066667</td>\n",
       "      <td>2018-07-01</td>\n",
       "      <td>Sunday</td>\n",
       "      <td>July</td>\n",
       "      <td>189203</td>\n",
       "    </tr>\n",
       "    <tr>\n",
       "      <th>2</th>\n",
       "      <td>470</td>\n",
       "      <td>2018-07-01 04:00:38</td>\n",
       "      <td>247</td>\n",
       "      <td>2018-07-01 04:07:39</td>\n",
       "      <td>7.016667</td>\n",
       "      <td>2018-07-01</td>\n",
       "      <td>Sunday</td>\n",
       "      <td>July</td>\n",
       "      <td>470247</td>\n",
       "    </tr>\n",
       "    <tr>\n",
       "      <th>3</th>\n",
       "      <td>246</td>\n",
       "      <td>2018-07-01 04:00:46</td>\n",
       "      <td>242</td>\n",
       "      <td>2018-07-01 04:11:59</td>\n",
       "      <td>11.216667</td>\n",
       "      <td>2018-07-01</td>\n",
       "      <td>Sunday</td>\n",
       "      <td>July</td>\n",
       "      <td>246242</td>\n",
       "    </tr>\n",
       "    <tr>\n",
       "      <th>4</th>\n",
       "      <td>222</td>\n",
       "      <td>2018-07-01 04:00:55</td>\n",
       "      <td>247</td>\n",
       "      <td>2018-07-01 04:08:52</td>\n",
       "      <td>7.950000</td>\n",
       "      <td>2018-07-01</td>\n",
       "      <td>Sunday</td>\n",
       "      <td>July</td>\n",
       "      <td>222247</td>\n",
       "    </tr>\n",
       "  </tbody>\n",
       "</table>\n",
       "</div>"
      ],
      "text/plain": [
       "  Start station          Start time End station            End time  \\\n",
       "0           207 2018-07-01 04:00:15         177 2018-07-01 04:06:37   \n",
       "1           189 2018-07-01 04:00:34         203 2018-07-01 04:05:38   \n",
       "2           470 2018-07-01 04:00:38         247 2018-07-01 04:07:39   \n",
       "3           246 2018-07-01 04:00:46         242 2018-07-01 04:11:59   \n",
       "4           222 2018-07-01 04:00:55         247 2018-07-01 04:08:52   \n",
       "\n",
       "    duration        Date     day month journey  \n",
       "0   6.366667  2018-07-01  Sunday  July  207177  \n",
       "1   5.066667  2018-07-01  Sunday  July  189203  \n",
       "2   7.016667  2018-07-01  Sunday  July  470247  \n",
       "3  11.216667  2018-07-01  Sunday  July  246242  \n",
       "4   7.950000  2018-07-01  Sunday  July  222247  "
      ]
     },
     "execution_count": 320,
     "metadata": {},
     "output_type": "execute_result"
    }
   ],
   "source": [
    "july18.head()"
   ]
  },
  {
   "cell_type": "code",
   "execution_count": 321,
   "metadata": {},
   "outputs": [],
   "source": [
    "dfcomb=pd.concat([april18,may18,june18,july18])"
   ]
  },
  {
   "cell_type": "code",
   "execution_count": 40,
   "metadata": {},
   "outputs": [],
   "source": [
    "#dfcomb"
   ]
  },
  {
   "cell_type": "code",
   "execution_count": 322,
   "metadata": {},
   "outputs": [
    {
     "data": {
      "text/plain": [
       "Start station            object\n",
       "Start time       datetime64[ns]\n",
       "End station              object\n",
       "End time         datetime64[ns]\n",
       "duration                float64\n",
       "Date                     object\n",
       "day                      object\n",
       "month                    object\n",
       "journey                  object\n",
       "dtype: object"
      ]
     },
     "execution_count": 322,
     "metadata": {},
     "output_type": "execute_result"
    }
   ],
   "source": [
    "dfcomb.dtypes"
   ]
  },
  {
   "cell_type": "markdown",
   "metadata": {},
   "source": [
    "## Plot the average duration of a bike rides on every day for the four months"
   ]
  },
  {
   "cell_type": "code",
   "execution_count": 323,
   "metadata": {},
   "outputs": [],
   "source": [
    "week=['Monday','Tuesday','Wednesday','Thursday','Friday','Saturday','Sunday']"
   ]
  },
  {
   "cell_type": "code",
   "execution_count": 324,
   "metadata": {},
   "outputs": [
    {
     "data": {
      "image/png": "[encoded data removed]",
      "text/plain": [
       "<Figure size 432x288 with 1 Axes>"
      ]
     },
     "metadata": {},
     "output_type": "display_data"
    }
   ],
   "source": [
    "ax=sns.barplot(x='day',y='duration',data=dfcomb,order=week,hue=\"month\")"
   ]
  },
  {
   "cell_type": "markdown",
   "metadata": {},
   "source": [
    "## Plot the usage for every day"
   ]
  },
  {
   "cell_type": "code",
   "execution_count": 326,
   "metadata": {},
   "outputs": [
    {
     "data": {
      "text/plain": [
       "<matplotlib.axes._subplots.AxesSubplot at 0x1aa1a61940>"
      ]
     },
     "execution_count": 326,
     "metadata": {},
     "output_type": "execute_result"
    },
    {
     "data": {
      "image/png": "[encoded data removed]",
      "text/plain": [
       "<Figure size 720x720 with 1 Axes>"
      ]
     },
     "metadata": {},
     "output_type": "display_data"
    }
   ],
   "source": [
    "plt.rcParams['figure.figsize']=(10,10)\n",
    "sns.barplot(x='Date',y='duration',data=july18)"
   ]
  },
  {
   "cell_type": "code",
   "execution_count": 327,
   "metadata": {},
   "outputs": [
    {
     "data": {
      "text/plain": [
       "<matplotlib.axes._subplots.AxesSubplot at 0x1a3cda8710>"
      ]
     },
     "execution_count": 327,
     "metadata": {},
     "output_type": "execute_result"
    },
    {
     "data": {
      "image/png": "[encoded data removed]",
      "text/plain": [
       "<Figure size 720x720 with 1 Axes>"
      ]
     },
     "metadata": {},
     "output_type": "display_data"
    }
   ],
   "source": [
    "#plt.figure(figsize=(25,20))\n",
    "plt.rcParams['figure.figsize']=(10,10)\n",
    "sns.barplot(x='Date',y='duration',data=july18)"
   ]
  },
  {
   "cell_type": "markdown",
   "metadata": {},
   "source": [
    "## Load weather data"
   ]
  },
  {
   "cell_type": "code",
   "execution_count": 328,
   "metadata": {},
   "outputs": [
    {
     "name": "stderr",
     "output_type": "stream",
     "text": [
      "/Users/param/anaconda3/lib/python3.6/site-packages/ipykernel_launcher.py:2: FutureWarning: convert_objects is deprecated.  To re-infer data dtypes for object columns, use Series.infer_objects()\n",
      "For all other conversions use the data-type specific converters pd.to_datetime, pd.to_timedelta and pd.to_numeric.\n",
      "  \n",
      "/Users/param/anaconda3/lib/python3.6/site-packages/ipykernel_launcher.py:3: FutureWarning: convert_objects is deprecated.  To re-infer data dtypes for object columns, use Series.infer_objects()\n",
      "For all other conversions use the data-type specific converters pd.to_datetime, pd.to_timedelta and pd.to_numeric.\n",
      "  This is separate from the ipykernel package so we can avoid doing imports until\n",
      "/Users/param/anaconda3/lib/python3.6/site-packages/ipykernel_launcher.py:4: FutureWarning: convert_objects is deprecated.  To re-infer data dtypes for object columns, use Series.infer_objects()\n",
      "For all other conversions use the data-type specific converters pd.to_datetime, pd.to_timedelta and pd.to_numeric.\n",
      "  after removing the cwd from sys.path.\n",
      "/Users/param/anaconda3/lib/python3.6/site-packages/ipykernel_launcher.py:5: FutureWarning: convert_objects is deprecated.  To re-infer data dtypes for object columns, use Series.infer_objects()\n",
      "For all other conversions use the data-type specific converters pd.to_datetime, pd.to_timedelta and pd.to_numeric.\n",
      "  \"\"\"\n"
     ]
    },
    {
     "data": {
      "text/html": [
       "<div>\n",
       "<style scoped>\n",
       "    .dataframe tbody tr th:only-of-type {\n",
       "        vertical-align: middle;\n",
       "    }\n",
       "\n",
       "    .dataframe tbody tr th {\n",
       "        vertical-align: top;\n",
       "    }\n",
       "\n",
       "    .dataframe thead th {\n",
       "        text-align: right;\n",
       "    }\n",
       "</style>\n",
       "<table border=\"1\" class=\"dataframe\">\n",
       "  <thead>\n",
       "    <tr style=\"text-align: right;\">\n",
       "      <th></th>\n",
       "      <th>Date</th>\n",
       "      <th>Max</th>\n",
       "      <th>Min</th>\n",
       "      <th>Average</th>\n",
       "      <th>Precipitation</th>\n",
       "    </tr>\n",
       "  </thead>\n",
       "  <tbody>\n",
       "    <tr>\n",
       "      <th>0</th>\n",
       "      <td>2018-08-27</td>\n",
       "      <td>17.1</td>\n",
       "      <td>8.8</td>\n",
       "      <td>13.2</td>\n",
       "      <td>0.1</td>\n",
       "    </tr>\n",
       "    <tr>\n",
       "      <th>1</th>\n",
       "      <td>2018-08-26</td>\n",
       "      <td>19.5</td>\n",
       "      <td>6.6</td>\n",
       "      <td>13.0</td>\n",
       "      <td>0.0</td>\n",
       "    </tr>\n",
       "    <tr>\n",
       "      <th>2</th>\n",
       "      <td>2018-08-25</td>\n",
       "      <td>19.1</td>\n",
       "      <td>5.0</td>\n",
       "      <td>12.8</td>\n",
       "      <td>3.2</td>\n",
       "    </tr>\n",
       "    <tr>\n",
       "      <th>3</th>\n",
       "      <td>2018-08-24</td>\n",
       "      <td>20.7</td>\n",
       "      <td>12.6</td>\n",
       "      <td>15.6</td>\n",
       "      <td>0.2</td>\n",
       "    </tr>\n",
       "    <tr>\n",
       "      <th>4</th>\n",
       "      <td>2018-08-23</td>\n",
       "      <td>20.2</td>\n",
       "      <td>11.1</td>\n",
       "      <td>15.8</td>\n",
       "      <td>2.6</td>\n",
       "    </tr>\n",
       "  </tbody>\n",
       "</table>\n",
       "</div>"
      ],
      "text/plain": [
       "         Date   Max   Min  Average  Precipitation\n",
       "0  2018-08-27  17.1   8.8     13.2            0.1\n",
       "1  2018-08-26  19.5   6.6     13.0            0.0\n",
       "2  2018-08-25  19.1   5.0     12.8            3.2\n",
       "3  2018-08-24  20.7  12.6     15.6            0.2\n",
       "4  2018-08-23  20.2  11.1     15.8            2.6"
      ]
     },
     "execution_count": 328,
     "metadata": {},
     "output_type": "execute_result"
    }
   ],
   "source": [
    "weather=pd.read_csv('weather.csv',sep=';',parse_dates=['Date'])\n",
    "weather['Max']=(weather['Max'].str.split('°')).str.join('').convert_objects(convert_numeric=True)\n",
    "weather['Min']=(weather['Min'].str.split('°')).str.join('').convert_objects(convert_numeric=True)\n",
    "weather['Average']=(weather['Average'].str.split('°')).str.join('').convert_objects(convert_numeric=True)\n",
    "weather['Precipitation']=(weather['Precipitation'].str.split(' mm')).str.join('').convert_objects(convert_numeric=True)\n",
    "weather['Date']=weather['Date'].dt.date\n",
    "weather.head()"
   ]
  },
  {
   "cell_type": "markdown",
   "metadata": {},
   "source": [
    "# Take the average duration of bike ride"
   ]
  },
  {
   "cell_type": "code",
   "execution_count": 329,
   "metadata": {},
   "outputs": [],
   "source": [
    "#weather.set_index('Date',inplace=True);\n",
    "#weather.head()\n",
    "#weather['Date'];"
   ]
  },
  {
   "cell_type": "code",
   "execution_count": 330,
   "metadata": {},
   "outputs": [],
   "source": [
    "#wjul=weather[((weather.Date).dt.month==7)&((weather.Date).dt.year==2018)]\n",
    "#wjun=weather[((weather.Date).dt.month==6)&((weather.Date).dt.year==2018)]\n",
    "#wmay=weather[((weather.Date).dt.month==5)&((weather.Date).dt.year==2018)]\n",
    "#wapr=weather[((weather.Date).dt.month==4)&((weather.Date).dt.year==2018)]\n",
    "#wjul.head()"
   ]
  },
  {
   "cell_type": "code",
   "execution_count": 331,
   "metadata": {},
   "outputs": [
    {
     "data": {
      "text/html": [
       "<div>\n",
       "<style scoped>\n",
       "    .dataframe tbody tr th:only-of-type {\n",
       "        vertical-align: middle;\n",
       "    }\n",
       "\n",
       "    .dataframe tbody tr th {\n",
       "        vertical-align: top;\n",
       "    }\n",
       "\n",
       "    .dataframe thead th {\n",
       "        text-align: right;\n",
       "    }\n",
       "</style>\n",
       "<table border=\"1\" class=\"dataframe\">\n",
       "  <thead>\n",
       "    <tr style=\"text-align: right;\">\n",
       "      <th></th>\n",
       "      <th>duration</th>\n",
       "    </tr>\n",
       "    <tr>\n",
       "      <th>Date</th>\n",
       "      <th></th>\n",
       "    </tr>\n",
       "  </thead>\n",
       "  <tbody>\n",
       "    <tr>\n",
       "      <th>2018-04-01</th>\n",
       "      <td>8.916667</td>\n",
       "    </tr>\n",
       "    <tr>\n",
       "      <th>2018-04-04</th>\n",
       "      <td>11.108789</td>\n",
       "    </tr>\n",
       "    <tr>\n",
       "      <th>2018-04-05</th>\n",
       "      <td>7.684973</td>\n",
       "    </tr>\n",
       "    <tr>\n",
       "      <th>2018-04-06</th>\n",
       "      <td>11.965465</td>\n",
       "    </tr>\n",
       "    <tr>\n",
       "      <th>2018-04-07</th>\n",
       "      <td>15.677646</td>\n",
       "    </tr>\n",
       "  </tbody>\n",
       "</table>\n",
       "</div>"
      ],
      "text/plain": [
       "             duration\n",
       "Date                 \n",
       "2018-04-01   8.916667\n",
       "2018-04-04  11.108789\n",
       "2018-04-05   7.684973\n",
       "2018-04-06  11.965465\n",
       "2018-04-07  15.677646"
      ]
     },
     "execution_count": 331,
     "metadata": {},
     "output_type": "execute_result"
    }
   ],
   "source": [
    "temp=pd.DataFrame(dfcomb.groupby('Date')['duration'].mean())\n",
    "temp.head()"
   ]
  },
  {
   "cell_type": "code",
   "execution_count": 332,
   "metadata": {},
   "outputs": [
    {
     "data": {
      "text/html": [
       "<div>\n",
       "<style scoped>\n",
       "    .dataframe tbody tr th:only-of-type {\n",
       "        vertical-align: middle;\n",
       "    }\n",
       "\n",
       "    .dataframe tbody tr th {\n",
       "        vertical-align: top;\n",
       "    }\n",
       "\n",
       "    .dataframe thead th {\n",
       "        text-align: right;\n",
       "    }\n",
       "</style>\n",
       "<table border=\"1\" class=\"dataframe\">\n",
       "  <thead>\n",
       "    <tr style=\"text-align: right;\">\n",
       "      <th></th>\n",
       "      <th>duration</th>\n",
       "    </tr>\n",
       "    <tr>\n",
       "      <th>Date</th>\n",
       "      <th></th>\n",
       "    </tr>\n",
       "  </thead>\n",
       "  <tbody>\n",
       "    <tr>\n",
       "      <th>2018-04-01</th>\n",
       "      <td>1</td>\n",
       "    </tr>\n",
       "    <tr>\n",
       "      <th>2018-04-04</th>\n",
       "      <td>476</td>\n",
       "    </tr>\n",
       "    <tr>\n",
       "      <th>2018-04-05</th>\n",
       "      <td>427</td>\n",
       "    </tr>\n",
       "    <tr>\n",
       "      <th>2018-04-06</th>\n",
       "      <td>929</td>\n",
       "    </tr>\n",
       "    <tr>\n",
       "      <th>2018-04-07</th>\n",
       "      <td>504</td>\n",
       "    </tr>\n",
       "  </tbody>\n",
       "</table>\n",
       "</div>"
      ],
      "text/plain": [
       "            duration\n",
       "Date                \n",
       "2018-04-01         1\n",
       "2018-04-04       476\n",
       "2018-04-05       427\n",
       "2018-04-06       929\n",
       "2018-04-07       504"
      ]
     },
     "execution_count": 332,
     "metadata": {},
     "output_type": "execute_result"
    }
   ],
   "source": [
    "temp2=pd.DataFrame(dfcomb.groupby('Date')['duration'].count())\n",
    "temp2.head()"
   ]
  },
  {
   "cell_type": "code",
   "execution_count": 333,
   "metadata": {},
   "outputs": [],
   "source": [
    "temp=pd.merge(temp,temp2,on='Date')"
   ]
  },
  {
   "cell_type": "code",
   "execution_count": 334,
   "metadata": {},
   "outputs": [
    {
     "data": {
      "text/html": [
       "<div>\n",
       "<style scoped>\n",
       "    .dataframe tbody tr th:only-of-type {\n",
       "        vertical-align: middle;\n",
       "    }\n",
       "\n",
       "    .dataframe tbody tr th {\n",
       "        vertical-align: top;\n",
       "    }\n",
       "\n",
       "    .dataframe thead th {\n",
       "        text-align: right;\n",
       "    }\n",
       "</style>\n",
       "<table border=\"1\" class=\"dataframe\">\n",
       "  <thead>\n",
       "    <tr style=\"text-align: right;\">\n",
       "      <th></th>\n",
       "      <th>Date</th>\n",
       "      <th>Max</th>\n",
       "      <th>Min</th>\n",
       "      <th>Average</th>\n",
       "      <th>Precipitation</th>\n",
       "      <th>duration_x</th>\n",
       "      <th>duration_y</th>\n",
       "    </tr>\n",
       "  </thead>\n",
       "  <tbody>\n",
       "    <tr>\n",
       "      <th>0</th>\n",
       "      <td>2018-07-31</td>\n",
       "      <td>30.9</td>\n",
       "      <td>17.2</td>\n",
       "      <td>23.1</td>\n",
       "      <td>2.4</td>\n",
       "      <td>12.697460</td>\n",
       "      <td>14383</td>\n",
       "    </tr>\n",
       "    <tr>\n",
       "      <th>1</th>\n",
       "      <td>2018-07-30</td>\n",
       "      <td>27.3</td>\n",
       "      <td>14.1</td>\n",
       "      <td>20.9</td>\n",
       "      <td>0.0</td>\n",
       "      <td>13.153885</td>\n",
       "      <td>14385</td>\n",
       "    </tr>\n",
       "    <tr>\n",
       "      <th>2</th>\n",
       "      <td>2018-07-29</td>\n",
       "      <td>28.2</td>\n",
       "      <td>20.4</td>\n",
       "      <td>22.8</td>\n",
       "      <td>15.7</td>\n",
       "      <td>16.398688</td>\n",
       "      <td>9591</td>\n",
       "    </tr>\n",
       "    <tr>\n",
       "      <th>3</th>\n",
       "      <td>2018-07-28</td>\n",
       "      <td>30.9</td>\n",
       "      <td>21.3</td>\n",
       "      <td>25.4</td>\n",
       "      <td>0.0</td>\n",
       "      <td>15.138273</td>\n",
       "      <td>8111</td>\n",
       "    </tr>\n",
       "    <tr>\n",
       "      <th>4</th>\n",
       "      <td>2018-07-27</td>\n",
       "      <td>34.2</td>\n",
       "      <td>14.9</td>\n",
       "      <td>25.1</td>\n",
       "      <td>0.0</td>\n",
       "      <td>15.539831</td>\n",
       "      <td>13879</td>\n",
       "    </tr>\n",
       "  </tbody>\n",
       "</table>\n",
       "</div>"
      ],
      "text/plain": [
       "         Date   Max   Min  Average  Precipitation  duration_x  duration_y\n",
       "0  2018-07-31  30.9  17.2     23.1            2.4   12.697460       14383\n",
       "1  2018-07-30  27.3  14.1     20.9            0.0   13.153885       14385\n",
       "2  2018-07-29  28.2  20.4     22.8           15.7   16.398688        9591\n",
       "3  2018-07-28  30.9  21.3     25.4            0.0   15.138273        8111\n",
       "4  2018-07-27  34.2  14.9     25.1            0.0   15.539831       13879"
      ]
     },
     "execution_count": 334,
     "metadata": {},
     "output_type": "execute_result"
    }
   ],
   "source": [
    "dataavg=pd.merge(weather,temp,on='Date')\n",
    "dataavg.head()"
   ]
  },
  {
   "cell_type": "code",
   "execution_count": 335,
   "metadata": {},
   "outputs": [],
   "source": [
    "dataavg.columns=['Date','Max_Temp','Min_Temp','Avg_Temp','Prec','Avg_ride','no_of_rides']"
   ]
  },
  {
   "cell_type": "code",
   "execution_count": 336,
   "metadata": {},
   "outputs": [
    {
     "data": {
      "text/html": [
       "<div>\n",
       "<style scoped>\n",
       "    .dataframe tbody tr th:only-of-type {\n",
       "        vertical-align: middle;\n",
       "    }\n",
       "\n",
       "    .dataframe tbody tr th {\n",
       "        vertical-align: top;\n",
       "    }\n",
       "\n",
       "    .dataframe thead th {\n",
       "        text-align: right;\n",
       "    }\n",
       "</style>\n",
       "<table border=\"1\" class=\"dataframe\">\n",
       "  <thead>\n",
       "    <tr style=\"text-align: right;\">\n",
       "      <th></th>\n",
       "      <th>Max_Temp</th>\n",
       "      <th>Min_Temp</th>\n",
       "      <th>Avg_Temp</th>\n",
       "      <th>Prec</th>\n",
       "      <th>Avg_ride</th>\n",
       "      <th>no_of_rides</th>\n",
       "    </tr>\n",
       "  </thead>\n",
       "  <tbody>\n",
       "    <tr>\n",
       "      <th>count</th>\n",
       "      <td>120.000000</td>\n",
       "      <td>120.000000</td>\n",
       "      <td>120.000000</td>\n",
       "      <td>120.000000</td>\n",
       "      <td>120.000000</td>\n",
       "      <td>120.000000</td>\n",
       "    </tr>\n",
       "    <tr>\n",
       "      <th>mean</th>\n",
       "      <td>22.498333</td>\n",
       "      <td>9.627500</td>\n",
       "      <td>15.954167</td>\n",
       "      <td>1.134167</td>\n",
       "      <td>13.985755</td>\n",
       "      <td>13597.175000</td>\n",
       "    </tr>\n",
       "    <tr>\n",
       "      <th>std</th>\n",
       "      <td>7.251554</td>\n",
       "      <td>6.034814</td>\n",
       "      <td>6.407085</td>\n",
       "      <td>3.021339</td>\n",
       "      <td>2.122744</td>\n",
       "      <td>4824.449642</td>\n",
       "    </tr>\n",
       "    <tr>\n",
       "      <th>min</th>\n",
       "      <td>4.500000</td>\n",
       "      <td>-8.100000</td>\n",
       "      <td>-1.200000</td>\n",
       "      <td>0.000000</td>\n",
       "      <td>7.684973</td>\n",
       "      <td>1.000000</td>\n",
       "    </tr>\n",
       "    <tr>\n",
       "      <th>25%</th>\n",
       "      <td>17.475000</td>\n",
       "      <td>5.675000</td>\n",
       "      <td>10.325000</td>\n",
       "      <td>0.000000</td>\n",
       "      <td>12.672624</td>\n",
       "      <td>11388.750000</td>\n",
       "    </tr>\n",
       "    <tr>\n",
       "      <th>50%</th>\n",
       "      <td>23.950000</td>\n",
       "      <td>10.500000</td>\n",
       "      <td>17.300000</td>\n",
       "      <td>0.000000</td>\n",
       "      <td>13.740130</td>\n",
       "      <td>14358.000000</td>\n",
       "    </tr>\n",
       "    <tr>\n",
       "      <th>75%</th>\n",
       "      <td>28.225000</td>\n",
       "      <td>14.525000</td>\n",
       "      <td>21.300000</td>\n",
       "      <td>0.025000</td>\n",
       "      <td>15.564556</td>\n",
       "      <td>16919.250000</td>\n",
       "    </tr>\n",
       "    <tr>\n",
       "      <th>max</th>\n",
       "      <td>34.200000</td>\n",
       "      <td>21.300000</td>\n",
       "      <td>25.400000</td>\n",
       "      <td>15.900000</td>\n",
       "      <td>19.125404</td>\n",
       "      <td>21768.000000</td>\n",
       "    </tr>\n",
       "  </tbody>\n",
       "</table>\n",
       "</div>"
      ],
      "text/plain": [
       "         Max_Temp    Min_Temp    Avg_Temp        Prec    Avg_ride  \\\n",
       "count  120.000000  120.000000  120.000000  120.000000  120.000000   \n",
       "mean    22.498333    9.627500   15.954167    1.134167   13.985755   \n",
       "std      7.251554    6.034814    6.407085    3.021339    2.122744   \n",
       "min      4.500000   -8.100000   -1.200000    0.000000    7.684973   \n",
       "25%     17.475000    5.675000   10.325000    0.000000   12.672624   \n",
       "50%     23.950000   10.500000   17.300000    0.000000   13.740130   \n",
       "75%     28.225000   14.525000   21.300000    0.025000   15.564556   \n",
       "max     34.200000   21.300000   25.400000   15.900000   19.125404   \n",
       "\n",
       "        no_of_rides  \n",
       "count    120.000000  \n",
       "mean   13597.175000  \n",
       "std     4824.449642  \n",
       "min        1.000000  \n",
       "25%    11388.750000  \n",
       "50%    14358.000000  \n",
       "75%    16919.250000  \n",
       "max    21768.000000  "
      ]
     },
     "execution_count": 336,
     "metadata": {},
     "output_type": "execute_result"
    }
   ],
   "source": [
    "dataavg.describe()"
   ]
  },
  {
   "cell_type": "code",
   "execution_count": 337,
   "metadata": {},
   "outputs": [],
   "source": [
    "dataavg['Rain']=dataavg['Prec']>0.0"
   ]
  },
  {
   "cell_type": "code",
   "execution_count": 338,
   "metadata": {},
   "outputs": [
    {
     "data": {
      "image/png": "[encoded data removed]",
      "text/plain": [
       "<Figure size 504x360 with 1 Axes>"
      ]
     },
     "metadata": {},
     "output_type": "display_data"
    }
   ],
   "source": [
    "plt.rcParams['figure.figsize']=(7,5)\n",
    "ax = sns.scatterplot(x=\"Max_Temp\", y=\"Avg_ride\", data=dataavg,hue='Rain')"
   ]
  },
  {
   "cell_type": "code",
   "execution_count": 339,
   "metadata": {},
   "outputs": [
    {
     "data": {
      "image/png": "[encoded data removed]",
      "text/plain": [
       "<Figure size 504x360 with 1 Axes>"
      ]
     },
     "metadata": {},
     "output_type": "display_data"
    }
   ],
   "source": [
    "from sklearn.linear_model import LinearRegression\n",
    "from sklearn.model_selection import train_test_split\n",
    "from sklearn.metrics import mean_squared_error\n",
    "from math import sqrt\n",
    "\n",
    "X= pd.DataFrame(dataavg[\"Max_Temp\"])\n",
    "\n",
    "X_train, X_test, y_train, y_test = train_test_split(X,dataavg[\"Avg_ride\"] , test_size=0.33, random_state=324)\n",
    "regr = LinearRegression()\n",
    "regr.fit(X_train, y_train)\n",
    "y_prediction = regr.predict(X_test)\n",
    "RMSE = sqrt(mean_squared_error(y_true = y_test, y_pred = y_prediction))\n",
    "#ax = sns.scatterplot(x=\"Max_Temp\", y=\"Avg_ride\", data=dataavg,hue='Rain')\n",
    "#sns.lineplot(x=X_test, y=y_prediction)\n",
    "ax = sns.regplot(x=\"Max_Temp\", y=\"Avg_ride\", data=dataavg)"
   ]
  },
  {
   "cell_type": "code",
   "execution_count": 340,
   "metadata": {},
   "outputs": [
    {
     "name": "stdout",
     "output_type": "stream",
     "text": [
      "2.097703282168997\n"
     ]
    },
    {
     "data": {
      "text/plain": [
       "array([15.01946409, 14.9074945 , 14.66955912, 14.76753251, 14.9354869 ,\n",
       "       13.49387842, 13.87177579, 14.8655059 , 14.73954011, 15.14542988,\n",
       "       15.01946409, 14.26366935, 14.8375135 , 14.29166175, 14.40363134,\n",
       "       15.29938806, 15.22940707, 14.52959713, 15.62130064, 12.5701293 ,\n",
       "       12.71009129, 14.96347929, 15.18741847, 12.66810269, 14.16569596,\n",
       "       12.85005328, 15.24340327, 13.31192784, 14.72554391, 11.84232696,\n",
       "       15.10344128, 13.29793164, 12.48615211, 13.36791263, 12.96202287,\n",
       "       14.17969216, 15.27139567, 12.38817871, 13.40990123, 13.18596205])"
      ]
     },
     "execution_count": 340,
     "metadata": {},
     "output_type": "execute_result"
    }
   ],
   "source": [
    "print(RMSE)\n",
    "y_prediction"
   ]
  },
  {
   "cell_type": "code",
   "execution_count": 341,
   "metadata": {},
   "outputs": [
    {
     "data": {
      "text/plain": [
       "<matplotlib.axes._subplots.AxesSubplot at 0x1a3cbb9470>"
      ]
     },
     "execution_count": 341,
     "metadata": {},
     "output_type": "execute_result"
    },
    {
     "data": {
      "image/png": "[encoded data removed]",
      "text/plain": [
       "<Figure size 504x360 with 1 Axes>"
      ]
     },
     "metadata": {},
     "output_type": "display_data"
    }
   ],
   "source": [
    "sns.scatterplot(x=\"Max_Temp\", y=\"no_of_rides\", data=dataavg,hue='Rain')"
   ]
  },
  {
   "cell_type": "code",
   "execution_count": 342,
   "metadata": {},
   "outputs": [
    {
     "data": {
      "image/png": "[encoded data removed]",
      "text/plain": [
       "<Figure size 504x360 with 1 Axes>"
      ]
     },
     "metadata": {},
     "output_type": "display_data"
    }
   ],
   "source": [
    "X= pd.DataFrame(dataavg[\"Max_Temp\"])\n",
    "\n",
    "X_train, X_test, y_train, y_test = train_test_split(X,dataavg[\"no_of_rides\"] , test_size=0.33, random_state=324)\n",
    "regr = LinearRegression()\n",
    "regr.fit(X_train, y_train)\n",
    "y_prediction = regr.predict(X_test)\n",
    "RMSE = sqrt(mean_squared_error(y_true = y_test, y_pred = y_prediction))\n",
    "#ax = sns.scatterplot(x=\"Max_Temp\", y=\"Avg_ride\", data=dataavg,hue='Rain')\n",
    "#sns.lineplot(x=X_test, y=y_prediction)\n",
    "ax = sns.regplot(x=\"Max_Temp\", y=\"no_of_rides\", data=dataavg)"
   ]
  },
  {
   "cell_type": "code",
   "execution_count": 343,
   "metadata": {},
   "outputs": [],
   "source": [
    "july17=pd.read_csv('trips-2017.7.1-2017.7.31.csv',parse_dates=['Start time','End time'])\n",
    "july16=pd.read_csv('trips-2016.7.1-2016.7.31.csv',parse_dates=['Start time','End time'])\n",
    "\n",
    "july16['duration']= ((july16['End time']-july16['Start time']).dt.total_seconds())/60.0\n",
    "july17['duration']= ((july17['End time']-july17['Start time']).dt.total_seconds())/60.0"
   ]
  },
  {
   "cell_type": "code",
   "execution_count": 344,
   "metadata": {},
   "outputs": [
    {
     "name": "stdout",
     "output_type": "stream",
     "text": [
      "(412169, 9) (387918, 5) (294000, 5)\n"
     ]
    }
   ],
   "source": [
    "print(july18.shape,july17.shape,july16.shape)"
   ]
  },
  {
   "cell_type": "code",
   "execution_count": 345,
   "metadata": {},
   "outputs": [
    {
     "data": {
      "text/plain": [
       "36.55301921768665"
      ]
     },
     "execution_count": 345,
     "metadata": {},
     "output_type": "execute_result"
    }
   ],
   "source": [
    "july16['duration'].mean()"
   ]
  },
  {
   "cell_type": "code",
   "execution_count": 346,
   "metadata": {},
   "outputs": [
    {
     "data": {
      "text/plain": [
       "14.51446912319992"
      ]
     },
     "execution_count": 346,
     "metadata": {},
     "output_type": "execute_result"
    }
   ],
   "source": [
    "((july17['End time']-july17['Start time']).dt.total_seconds()/60.0).mean()"
   ]
  },
  {
   "cell_type": "code",
   "execution_count": 347,
   "metadata": {},
   "outputs": [
    {
     "data": {
      "text/plain": [
       "14.061431435487053"
      ]
     },
     "execution_count": 347,
     "metadata": {},
     "output_type": "execute_result"
    }
   ],
   "source": [
    "((july18['End time']-july18['Start time']).dt.total_seconds()/60.0).mean()"
   ]
  },
  {
   "cell_type": "code",
   "execution_count": 348,
   "metadata": {},
   "outputs": [
    {
     "data": {
      "text/plain": [
       "<matplotlib.axes._subplots.AxesSubplot at 0x1a3d7e19e8>"
      ]
     },
     "execution_count": 348,
     "metadata": {},
     "output_type": "execute_result"
    },
    {
     "data": {
      "image/png": "[encoded data removed]",
      "text/plain": [
       "<Figure size 504x360 with 1 Axes>"
      ]
     },
     "metadata": {},
     "output_type": "display_data"
    }
   ],
   "source": [
    "\n",
    "july16.duration[(july16.duration < 70.0)&(july16.duration >0.0)].hist(bins=100)"
   ]
  },
  {
   "cell_type": "code",
   "execution_count": 195,
   "metadata": {},
   "outputs": [
    {
     "data": {
      "text/plain": [
       "<matplotlib.axes._subplots.AxesSubplot at 0x1a55a6bf98>"
      ]
     },
     "execution_count": 195,
     "metadata": {},
     "output_type": "execute_result"
    },
    {
     "data": {
      "image/png": "[encoded data removed]",
      "text/plain": [
       "<Figure size 504x360 with 1 Axes>"
      ]
     },
     "metadata": {},
     "output_type": "display_data"
    }
   ],
   "source": [
    "sns.distplot(july16.duration[(july16.duration < 100.0)&(july16.duration >0.0)])"
   ]
  },
  {
   "cell_type": "code",
   "execution_count": 65,
   "metadata": {},
   "outputs": [
    {
     "data": {
      "text/plain": [
       "13.339874048083745"
      ]
     },
     "execution_count": 65,
     "metadata": {},
     "output_type": "execute_result"
    }
   ],
   "source": [
    "july16.duration[(july16.duration < 70.0)&(july18.duration >1.0)].mean()"
   ]
  },
  {
   "cell_type": "code",
   "execution_count": 73,
   "metadata": {},
   "outputs": [
    {
     "data": {
      "text/plain": [
       "12.893219287229954"
      ]
     },
     "execution_count": 73,
     "metadata": {},
     "output_type": "execute_result"
    }
   ],
   "source": [
    "july18.duration[(july18.duration < 70.0)&(july18.duration >1.0)].mean()"
   ]
  },
  {
   "cell_type": "code",
   "execution_count": 76,
   "metadata": {},
   "outputs": [
    {
     "data": {
      "text/plain": [
       "69.98333333333333"
      ]
     },
     "execution_count": 76,
     "metadata": {},
     "output_type": "execute_result"
    }
   ],
   "source": [
    "july16.duration[(july16.duration < 70.0)&(july16.duration >1.0)].quantile(0.999999)"
   ]
  },
  {
   "cell_type": "code",
   "execution_count": 183,
   "metadata": {},
   "outputs": [
    {
     "data": {
      "text/plain": [
       "246.549933333336"
      ]
     },
     "execution_count": 183,
     "metadata": {},
     "output_type": "execute_result"
    }
   ],
   "source": [
    "july18.duration.quantile(0.999)"
   ]
  },
  {
   "cell_type": "code",
   "execution_count": 181,
   "metadata": {},
   "outputs": [
    {
     "data": {
      "text/plain": [
       "<matplotlib.axes._subplots.AxesSubplot at 0x1a57ab8048>"
      ]
     },
     "execution_count": 181,
     "metadata": {},
     "output_type": "execute_result"
    },
    {
     "data": {
      "image/png": "[encoded data removed]",
      "text/plain": [
       "<Figure size 504x360 with 1 Axes>"
      ]
     },
     "metadata": {},
     "output_type": "display_data"
    }
   ],
   "source": [
    "july18.duration[(july18.duration < 70.0)].hist(bins=30)"
   ]
  },
  {
   "cell_type": "code",
   "execution_count": 194,
   "metadata": {},
   "outputs": [
    {
     "data": {
      "text/plain": [
       "<matplotlib.axes._subplots.AxesSubplot at 0x1a55bc8d30>"
      ]
     },
     "execution_count": 194,
     "metadata": {},
     "output_type": "execute_result"
    },
    {
     "data": {
      "image/png": "[encoded data removed]",
      "text/plain": [
       "<Figure size 504x360 with 1 Axes>"
      ]
     },
     "metadata": {},
     "output_type": "display_data"
    }
   ],
   "source": [
    "sns.set(color_codes=True)\n",
    "sns.distplot(july18.duration[(july18.duration < 100.0)])"
   ]
  },
  {
   "cell_type": "code",
   "execution_count": 349,
   "metadata": {},
   "outputs": [
    {
     "data": {
      "text/plain": [
       "60473"
      ]
     },
     "execution_count": 349,
     "metadata": {},
     "output_type": "execute_result"
    }
   ],
   "source": [
    "sum(dfcomb['Start station']==dfcomb['End station'])\n",
    "#All start and end stations in April have the same entry"
   ]
  },
  {
   "cell_type": "code",
   "execution_count": 350,
   "metadata": {},
   "outputs": [
    {
     "data": {
      "text/html": [
       "<div>\n",
       "<style scoped>\n",
       "    .dataframe tbody tr th:only-of-type {\n",
       "        vertical-align: middle;\n",
       "    }\n",
       "\n",
       "    .dataframe tbody tr th {\n",
       "        vertical-align: top;\n",
       "    }\n",
       "\n",
       "    .dataframe thead th {\n",
       "        text-align: right;\n",
       "    }\n",
       "</style>\n",
       "<table border=\"1\" class=\"dataframe\">\n",
       "  <thead>\n",
       "    <tr style=\"text-align: right;\">\n",
       "      <th></th>\n",
       "      <th>Start station</th>\n",
       "      <th>Start time</th>\n",
       "      <th>End station</th>\n",
       "      <th>End time</th>\n",
       "      <th>duration</th>\n",
       "      <th>Date</th>\n",
       "      <th>day</th>\n",
       "      <th>month</th>\n",
       "      <th>journey</th>\n",
       "    </tr>\n",
       "  </thead>\n",
       "  <tbody>\n",
       "    <tr>\n",
       "      <th>0</th>\n",
       "      <td>222</td>\n",
       "      <td>2018-04-01 13:34:02</td>\n",
       "      <td>222</td>\n",
       "      <td>2018-04-01 13:42:57</td>\n",
       "      <td>8.916667</td>\n",
       "      <td>2018-04-01</td>\n",
       "      <td>Sunday</td>\n",
       "      <td>April</td>\n",
       "      <td>222222</td>\n",
       "    </tr>\n",
       "    <tr>\n",
       "      <th>3</th>\n",
       "      <td>274</td>\n",
       "      <td>2018-04-04 05:06:49</td>\n",
       "      <td>204</td>\n",
       "      <td>2018-04-04 05:11:21</td>\n",
       "      <td>4.533333</td>\n",
       "      <td>2018-04-04</td>\n",
       "      <td>Wednesday</td>\n",
       "      <td>April</td>\n",
       "      <td>274204</td>\n",
       "    </tr>\n",
       "    <tr>\n",
       "      <th>4</th>\n",
       "      <td>247</td>\n",
       "      <td>2018-04-04 05:11:48</td>\n",
       "      <td>279</td>\n",
       "      <td>2018-04-04 05:15:57</td>\n",
       "      <td>4.150000</td>\n",
       "      <td>2018-04-04</td>\n",
       "      <td>Wednesday</td>\n",
       "      <td>April</td>\n",
       "      <td>247279</td>\n",
       "    </tr>\n",
       "    <tr>\n",
       "      <th>5</th>\n",
       "      <td>274</td>\n",
       "      <td>2018-04-04 05:27:08</td>\n",
       "      <td>247</td>\n",
       "      <td>2018-04-04 05:30:41</td>\n",
       "      <td>3.550000</td>\n",
       "      <td>2018-04-04</td>\n",
       "      <td>Wednesday</td>\n",
       "      <td>April</td>\n",
       "      <td>274247</td>\n",
       "    </tr>\n",
       "    <tr>\n",
       "      <th>6</th>\n",
       "      <td>274</td>\n",
       "      <td>2018-04-04 05:27:32</td>\n",
       "      <td>204</td>\n",
       "      <td>2018-04-04 05:31:56</td>\n",
       "      <td>4.400000</td>\n",
       "      <td>2018-04-04</td>\n",
       "      <td>Wednesday</td>\n",
       "      <td>April</td>\n",
       "      <td>274204</td>\n",
       "    </tr>\n",
       "  </tbody>\n",
       "</table>\n",
       "</div>"
      ],
      "text/plain": [
       "  Start station          Start time End station            End time  duration  \\\n",
       "0           222 2018-04-01 13:34:02         222 2018-04-01 13:42:57  8.916667   \n",
       "3           274 2018-04-04 05:06:49         204 2018-04-04 05:11:21  4.533333   \n",
       "4           247 2018-04-04 05:11:48         279 2018-04-04 05:15:57  4.150000   \n",
       "5           274 2018-04-04 05:27:08         247 2018-04-04 05:30:41  3.550000   \n",
       "6           274 2018-04-04 05:27:32         204 2018-04-04 05:31:56  4.400000   \n",
       "\n",
       "         Date        day  month journey  \n",
       "0  2018-04-01     Sunday  April  222222  \n",
       "3  2018-04-04  Wednesday  April  274204  \n",
       "4  2018-04-04  Wednesday  April  247279  \n",
       "5  2018-04-04  Wednesday  April  274247  \n",
       "6  2018-04-04  Wednesday  April  274204  "
      ]
     },
     "execution_count": 350,
     "metadata": {},
     "output_type": "execute_result"
    }
   ],
   "source": [
    "dfcomb.head()"
   ]
  },
  {
   "cell_type": "code",
   "execution_count": 351,
   "metadata": {},
   "outputs": [
    {
     "name": "stderr",
     "output_type": "stream",
     "text": [
      "/Users/param/anaconda3/lib/python3.6/site-packages/IPython/core/interactiveshell.py:2963: FutureWarning: 'journey' is both an index level and a column label.\n",
      "Defaulting to column, but this will raise an ambiguity error in a future version\n",
      "  exec(code_obj, self.user_global_ns, self.user_ns)\n"
     ]
    }
   ],
   "source": [
    "temp1=pd.DataFrame(dfcomb.groupby('journey')['duration'].mean())\n",
    "temp1['journey']=temp1.index\n",
    "temp2=pd.DataFrame(dfcomb.groupby('journey')['duration'].count())\n",
    "temp2['journey']=temp2.index\n",
    "datajourney=pd.merge(temp1,temp2,on='journey')"
   ]
  },
  {
   "cell_type": "code",
   "execution_count": 352,
   "metadata": {},
   "outputs": [
    {
     "data": {
      "text/html": [
       "<div>\n",
       "<style scoped>\n",
       "    .dataframe tbody tr th:only-of-type {\n",
       "        vertical-align: middle;\n",
       "    }\n",
       "\n",
       "    .dataframe tbody tr th {\n",
       "        vertical-align: top;\n",
       "    }\n",
       "\n",
       "    .dataframe thead th {\n",
       "        text-align: right;\n",
       "    }\n",
       "</style>\n",
       "<table border=\"1\" class=\"dataframe\">\n",
       "  <thead>\n",
       "    <tr style=\"text-align: right;\">\n",
       "      <th></th>\n",
       "      <th>duration_x</th>\n",
       "      <th>journey</th>\n",
       "      <th>duration_y</th>\n",
       "    </tr>\n",
       "  </thead>\n",
       "  <tbody>\n",
       "    <tr>\n",
       "      <th>0</th>\n",
       "      <td>19.085484</td>\n",
       "      <td>157157</td>\n",
       "      <td>496</td>\n",
       "    </tr>\n",
       "    <tr>\n",
       "      <th>1</th>\n",
       "      <td>23.913333</td>\n",
       "      <td>157158</td>\n",
       "      <td>5</td>\n",
       "    </tr>\n",
       "    <tr>\n",
       "      <th>2</th>\n",
       "      <td>22.886111</td>\n",
       "      <td>157159</td>\n",
       "      <td>6</td>\n",
       "    </tr>\n",
       "    <tr>\n",
       "      <th>3</th>\n",
       "      <td>19.904286</td>\n",
       "      <td>157160</td>\n",
       "      <td>70</td>\n",
       "    </tr>\n",
       "    <tr>\n",
       "      <th>4</th>\n",
       "      <td>20.383333</td>\n",
       "      <td>157161</td>\n",
       "      <td>2</td>\n",
       "    </tr>\n",
       "  </tbody>\n",
       "</table>\n",
       "</div>"
      ],
      "text/plain": [
       "   duration_x journey  duration_y\n",
       "0   19.085484  157157         496\n",
       "1   23.913333  157158           5\n",
       "2   22.886111  157159           6\n",
       "3   19.904286  157160          70\n",
       "4   20.383333  157161           2"
      ]
     },
     "execution_count": 352,
     "metadata": {},
     "output_type": "execute_result"
    }
   ],
   "source": [
    "datajourney.head()"
   ]
  },
  {
   "cell_type": "code",
   "execution_count": 353,
   "metadata": {},
   "outputs": [],
   "source": [
    "datajourney.columns=['avg_ride','journey','no_of_rides']"
   ]
  },
  {
   "cell_type": "code",
   "execution_count": 354,
   "metadata": {},
   "outputs": [
    {
     "data": {
      "text/html": [
       "<div>\n",
       "<style scoped>\n",
       "    .dataframe tbody tr th:only-of-type {\n",
       "        vertical-align: middle;\n",
       "    }\n",
       "\n",
       "    .dataframe tbody tr th {\n",
       "        vertical-align: top;\n",
       "    }\n",
       "\n",
       "    .dataframe thead th {\n",
       "        text-align: right;\n",
       "    }\n",
       "</style>\n",
       "<table border=\"1\" class=\"dataframe\">\n",
       "  <thead>\n",
       "    <tr style=\"text-align: right;\">\n",
       "      <th></th>\n",
       "      <th>avg_ride</th>\n",
       "      <th>journey</th>\n",
       "      <th>no_of_rides</th>\n",
       "    </tr>\n",
       "  </thead>\n",
       "  <tbody>\n",
       "    <tr>\n",
       "      <th>0</th>\n",
       "      <td>19.085484</td>\n",
       "      <td>157157</td>\n",
       "      <td>496</td>\n",
       "    </tr>\n",
       "    <tr>\n",
       "      <th>1</th>\n",
       "      <td>23.913333</td>\n",
       "      <td>157158</td>\n",
       "      <td>5</td>\n",
       "    </tr>\n",
       "    <tr>\n",
       "      <th>2</th>\n",
       "      <td>22.886111</td>\n",
       "      <td>157159</td>\n",
       "      <td>6</td>\n",
       "    </tr>\n",
       "    <tr>\n",
       "      <th>3</th>\n",
       "      <td>19.904286</td>\n",
       "      <td>157160</td>\n",
       "      <td>70</td>\n",
       "    </tr>\n",
       "    <tr>\n",
       "      <th>4</th>\n",
       "      <td>20.383333</td>\n",
       "      <td>157161</td>\n",
       "      <td>2</td>\n",
       "    </tr>\n",
       "  </tbody>\n",
       "</table>\n",
       "</div>"
      ],
      "text/plain": [
       "    avg_ride journey  no_of_rides\n",
       "0  19.085484  157157          496\n",
       "1  23.913333  157158            5\n",
       "2  22.886111  157159            6\n",
       "3  19.904286  157160           70\n",
       "4  20.383333  157161            2"
      ]
     },
     "execution_count": 354,
     "metadata": {},
     "output_type": "execute_result"
    }
   ],
   "source": [
    "datajourney.head()"
   ]
  },
  {
   "cell_type": "code",
   "execution_count": 355,
   "metadata": {},
   "outputs": [
    {
     "data": {
      "text/html": [
       "<div>\n",
       "<style scoped>\n",
       "    .dataframe tbody tr th:only-of-type {\n",
       "        vertical-align: middle;\n",
       "    }\n",
       "\n",
       "    .dataframe tbody tr th {\n",
       "        vertical-align: top;\n",
       "    }\n",
       "\n",
       "    .dataframe thead th {\n",
       "        text-align: right;\n",
       "    }\n",
       "</style>\n",
       "<table border=\"1\" class=\"dataframe\">\n",
       "  <thead>\n",
       "    <tr style=\"text-align: right;\">\n",
       "      <th></th>\n",
       "      <th>avg_ride</th>\n",
       "      <th>no_of_rides</th>\n",
       "    </tr>\n",
       "  </thead>\n",
       "  <tbody>\n",
       "    <tr>\n",
       "      <th>count</th>\n",
       "      <td>49564.000000</td>\n",
       "      <td>49564.000000</td>\n",
       "    </tr>\n",
       "    <tr>\n",
       "      <th>mean</th>\n",
       "      <td>19.261188</td>\n",
       "      <td>32.920285</td>\n",
       "    </tr>\n",
       "    <tr>\n",
       "      <th>std</th>\n",
       "      <td>15.729679</td>\n",
       "      <td>72.700833</td>\n",
       "    </tr>\n",
       "    <tr>\n",
       "      <th>min</th>\n",
       "      <td>1.750000</td>\n",
       "      <td>1.000000</td>\n",
       "    </tr>\n",
       "    <tr>\n",
       "      <th>25%</th>\n",
       "      <td>12.074948</td>\n",
       "      <td>4.000000</td>\n",
       "    </tr>\n",
       "    <tr>\n",
       "      <th>50%</th>\n",
       "      <td>16.658333</td>\n",
       "      <td>11.000000</td>\n",
       "    </tr>\n",
       "    <tr>\n",
       "      <th>75%</th>\n",
       "      <td>22.650000</td>\n",
       "      <td>33.000000</td>\n",
       "    </tr>\n",
       "    <tr>\n",
       "      <th>max</th>\n",
       "      <td>709.900000</td>\n",
       "      <td>3674.000000</td>\n",
       "    </tr>\n",
       "  </tbody>\n",
       "</table>\n",
       "</div>"
      ],
      "text/plain": [
       "           avg_ride   no_of_rides\n",
       "count  49564.000000  49564.000000\n",
       "mean      19.261188     32.920285\n",
       "std       15.729679     72.700833\n",
       "min        1.750000      1.000000\n",
       "25%       12.074948      4.000000\n",
       "50%       16.658333     11.000000\n",
       "75%       22.650000     33.000000\n",
       "max      709.900000   3674.000000"
      ]
     },
     "execution_count": 355,
     "metadata": {},
     "output_type": "execute_result"
    }
   ],
   "source": [
    "datajourney.describe()"
   ]
  },
  {
   "cell_type": "code",
   "execution_count": 356,
   "metadata": {},
   "outputs": [
    {
     "data": {
      "text/plain": [
       "<matplotlib.axes._subplots.AxesSubplot at 0x1a383be940>"
      ]
     },
     "execution_count": 356,
     "metadata": {},
     "output_type": "execute_result"
    },
    {
     "data": {
      "image/png": "[encoded data removed]",
      "text/plain": [
       "<Figure size 504x360 with 1 Axes>"
      ]
     },
     "metadata": {},
     "output_type": "display_data"
    }
   ],
   "source": [
    "sns.distplot(datajourney.no_of_rides[datajourney.no_of_rides<200])"
   ]
  },
  {
   "cell_type": "code",
   "execution_count": 357,
   "metadata": {},
   "outputs": [
    {
     "data": {
      "text/plain": [
       "<matplotlib.axes._subplots.AxesSubplot at 0x1a40e83dd8>"
      ]
     },
     "execution_count": 357,
     "metadata": {},
     "output_type": "execute_result"
    },
    {
     "data": {
      "image/png": "[encoded data removed]",
      "text/plain": [
       "<Figure size 504x360 with 1 Axes>"
      ]
     },
     "metadata": {},
     "output_type": "display_data"
    }
   ],
   "source": [
    "sns.distplot(datajourney.avg_ride[datajourney.avg_ride<100])"
   ]
  },
  {
   "cell_type": "code",
   "execution_count": 359,
   "metadata": {},
   "outputs": [
    {
     "data": {
      "text/plain": [
       "<matplotlib.axes._subplots.AxesSubplot at 0x1a40f88160>"
      ]
     },
     "execution_count": 359,
     "metadata": {},
     "output_type": "execute_result"
    },
    {
     "data": {
      "image/png": "[encoded data removed]",
      "text/plain": [
       "<Figure size 504x360 with 1 Axes>"
      ]
     },
     "metadata": {},
     "output_type": "display_data"
    }
   ],
   "source": [
    "sns.distplot(datajourney.avg_ride[(datajourney.no_of_rides>1000)])"
   ]
  },
  {
   "cell_type": "code",
   "execution_count": 366,
   "metadata": {},
   "outputs": [
    {
     "data": {
      "text/html": [
       "<div>\n",
       "<style scoped>\n",
       "    .dataframe tbody tr th:only-of-type {\n",
       "        vertical-align: middle;\n",
       "    }\n",
       "\n",
       "    .dataframe tbody tr th {\n",
       "        vertical-align: top;\n",
       "    }\n",
       "\n",
       "    .dataframe thead th {\n",
       "        text-align: right;\n",
       "    }\n",
       "</style>\n",
       "<table border=\"1\" class=\"dataframe\">\n",
       "  <thead>\n",
       "    <tr style=\"text-align: right;\">\n",
       "      <th></th>\n",
       "      <th>avg_ride</th>\n",
       "      <th>journey</th>\n",
       "      <th>no_of_rides</th>\n",
       "    </tr>\n",
       "  </thead>\n",
       "  <tbody>\n",
       "    <tr>\n",
       "      <th>7778</th>\n",
       "      <td>9.619915</td>\n",
       "      <td>195292</td>\n",
       "      <td>1914</td>\n",
       "    </tr>\n",
       "    <tr>\n",
       "      <th>7956</th>\n",
       "      <td>4.786472</td>\n",
       "      <td>196233</td>\n",
       "      <td>1439</td>\n",
       "    </tr>\n",
       "    <tr>\n",
       "      <th>9689</th>\n",
       "      <td>17.502102</td>\n",
       "      <td>204204</td>\n",
       "      <td>1094</td>\n",
       "    </tr>\n",
       "    <tr>\n",
       "      <th>9754</th>\n",
       "      <td>7.719275</td>\n",
       "      <td>204274</td>\n",
       "      <td>3674</td>\n",
       "    </tr>\n",
       "    <tr>\n",
       "      <th>9950</th>\n",
       "      <td>22.014906</td>\n",
       "      <td>205256</td>\n",
       "      <td>1136</td>\n",
       "    </tr>\n",
       "  </tbody>\n",
       "</table>\n",
       "</div>"
      ],
      "text/plain": [
       "       avg_ride journey  no_of_rides\n",
       "7778   9.619915  195292         1914\n",
       "7956   4.786472  196233         1439\n",
       "9689  17.502102  204204         1094\n",
       "9754   7.719275  204274         3674\n",
       "9950  22.014906  205256         1136"
      ]
     },
     "execution_count": 366,
     "metadata": {},
     "output_type": "execute_result"
    }
   ],
   "source": [
    "freq_journey=datajourney[(datajourney.no_of_rides>1000)]\n",
    "freq_journey.head()"
   ]
  },
  {
   "cell_type": "code",
   "execution_count": 361,
   "metadata": {},
   "outputs": [
    {
     "name": "stderr",
     "output_type": "stream",
     "text": [
      "/Users/param/anaconda3/lib/python3.6/site-packages/ipykernel_launcher.py:1: FutureWarning: 'argmax' is deprecated, use 'idxmax' instead. The behavior of 'argmax'\n",
      "will be corrected to return the positional maximum in the future.\n",
      "Use 'series.values.argmax' to get the position of the maximum now.\n",
      "  \"\"\"Entry point for launching an IPython kernel.\n"
     ]
    },
    {
     "data": {
      "text/plain": [
       "avg_ride       7.71928\n",
       "journey         204274\n",
       "no_of_rides       3674\n",
       "Name: 9754, dtype: object"
      ]
     },
     "execution_count": 361,
     "metadata": {},
     "output_type": "execute_result"
    }
   ],
   "source": [
    "datajourney.iloc[datajourney.no_of_rides.argmax()]"
   ]
  },
  {
   "cell_type": "code",
   "execution_count": 376,
   "metadata": {},
   "outputs": [],
   "source": [
    "import json\n",
    "from pandas.io.json import json_normalize\n",
    "#pd.read_json('stations.json',lines=True)\n",
    "#df = json_normalize(json['result'])\n",
    "with open('stations.json') as f:\n",
    "    data = json.load(f)"
   ]
  },
  {
   "cell_type": "code",
   "execution_count": 384,
   "metadata": {},
   "outputs": [],
   "source": [
    "temp=pd.DataFrame(data)\n",
    "temp=temp.stations.apply(pd.Series)"
   ]
  },
  {
   "cell_type": "code",
   "execution_count": 387,
   "metadata": {},
   "outputs": [
    {
     "data": {
      "text/html": [
       "<div>\n",
       "<style scoped>\n",
       "    .dataframe tbody tr th:only-of-type {\n",
       "        vertical-align: middle;\n",
       "    }\n",
       "\n",
       "    .dataframe tbody tr th {\n",
       "        vertical-align: top;\n",
       "    }\n",
       "\n",
       "    .dataframe thead th {\n",
       "        text-align: right;\n",
       "    }\n",
       "</style>\n",
       "<table border=\"1\" class=\"dataframe\">\n",
       "  <thead>\n",
       "    <tr style=\"text-align: right;\">\n",
       "      <th></th>\n",
       "      <th>id</th>\n",
       "      <th>number_of_locks</th>\n",
       "    </tr>\n",
       "  </thead>\n",
       "  <tbody>\n",
       "    <tr>\n",
       "      <th>count</th>\n",
       "      <td>230.000000</td>\n",
       "      <td>230.000000</td>\n",
       "    </tr>\n",
       "    <tr>\n",
       "      <th>mean</th>\n",
       "      <td>302.113043</td>\n",
       "      <td>22.534783</td>\n",
       "    </tr>\n",
       "    <tr>\n",
       "      <th>std</th>\n",
       "      <td>95.292587</td>\n",
       "      <td>9.572345</td>\n",
       "    </tr>\n",
       "    <tr>\n",
       "      <th>min</th>\n",
       "      <td>157.000000</td>\n",
       "      <td>6.000000</td>\n",
       "    </tr>\n",
       "    <tr>\n",
       "      <th>25%</th>\n",
       "      <td>220.250000</td>\n",
       "      <td>15.000000</td>\n",
       "    </tr>\n",
       "    <tr>\n",
       "      <th>50%</th>\n",
       "      <td>286.000000</td>\n",
       "      <td>21.000000</td>\n",
       "    </tr>\n",
       "    <tr>\n",
       "      <th>75%</th>\n",
       "      <td>387.500000</td>\n",
       "      <td>27.000000</td>\n",
       "    </tr>\n",
       "    <tr>\n",
       "      <th>max</th>\n",
       "      <td>487.000000</td>\n",
       "      <td>60.000000</td>\n",
       "    </tr>\n",
       "  </tbody>\n",
       "</table>\n",
       "</div>"
      ],
      "text/plain": [
       "               id  number_of_locks\n",
       "count  230.000000       230.000000\n",
       "mean   302.113043        22.534783\n",
       "std     95.292587         9.572345\n",
       "min    157.000000         6.000000\n",
       "25%    220.250000        15.000000\n",
       "50%    286.000000        21.000000\n",
       "75%    387.500000        27.000000\n",
       "max    487.000000        60.000000"
      ]
     },
     "execution_count": 387,
     "metadata": {},
     "output_type": "execute_result"
    }
   ],
   "source": [
    "temp.describe()"
   ]
  },
  {
   "cell_type": "code",
   "execution_count": 385,
   "metadata": {},
   "outputs": [
    {
     "data": {
      "text/html": [
       "<div>\n",
       "<style scoped>\n",
       "    .dataframe tbody tr th:only-of-type {\n",
       "        vertical-align: middle;\n",
       "    }\n",
       "\n",
       "    .dataframe tbody tr th {\n",
       "        vertical-align: top;\n",
       "    }\n",
       "\n",
       "    .dataframe thead th {\n",
       "        text-align: right;\n",
       "    }\n",
       "</style>\n",
       "<table border=\"1\" class=\"dataframe\">\n",
       "  <thead>\n",
       "    <tr style=\"text-align: right;\">\n",
       "      <th></th>\n",
       "      <th>id</th>\n",
       "      <th>in_service</th>\n",
       "      <th>title</th>\n",
       "      <th>subtitle</th>\n",
       "      <th>number_of_locks</th>\n",
       "      <th>center</th>\n",
       "      <th>bounds</th>\n",
       "    </tr>\n",
       "  </thead>\n",
       "  <tbody>\n",
       "    <tr>\n",
       "      <th>42</th>\n",
       "      <td>204</td>\n",
       "      <td>True</td>\n",
       "      <td>Paléhaven</td>\n",
       "      <td>langs Strandgata</td>\n",
       "      <td>48</td>\n",
       "      <td>{'latitude': 59.910286, 'longitude': 10.750012}</td>\n",
       "      <td>[{'latitude': 59.910122, 'longitude': 10.74978...</td>\n",
       "    </tr>\n",
       "  </tbody>\n",
       "</table>\n",
       "</div>"
      ],
      "text/plain": [
       "     id  in_service      title          subtitle  number_of_locks  \\\n",
       "42  204        True  Paléhaven  langs Strandgata               48   \n",
       "\n",
       "                                             center  \\\n",
       "42  {'latitude': 59.910286, 'longitude': 10.750012}   \n",
       "\n",
       "                                               bounds  \n",
       "42  [{'latitude': 59.910122, 'longitude': 10.74978...  "
      ]
     },
     "execution_count": 385,
     "metadata": {},
     "output_type": "execute_result"
    }
   ],
   "source": [
    "temp[temp.id==204]"
   ]
  },
  {
   "cell_type": "code",
   "execution_count": 386,
   "metadata": {},
   "outputs": [
    {
     "data": {
      "text/html": [
       "<div>\n",
       "<style scoped>\n",
       "    .dataframe tbody tr th:only-of-type {\n",
       "        vertical-align: middle;\n",
       "    }\n",
       "\n",
       "    .dataframe tbody tr th {\n",
       "        vertical-align: top;\n",
       "    }\n",
       "\n",
       "    .dataframe thead th {\n",
       "        text-align: right;\n",
       "    }\n",
       "</style>\n",
       "<table border=\"1\" class=\"dataframe\">\n",
       "  <thead>\n",
       "    <tr style=\"text-align: right;\">\n",
       "      <th></th>\n",
       "      <th>id</th>\n",
       "      <th>in_service</th>\n",
       "      <th>title</th>\n",
       "      <th>subtitle</th>\n",
       "      <th>number_of_locks</th>\n",
       "      <th>center</th>\n",
       "      <th>bounds</th>\n",
       "    </tr>\n",
       "  </thead>\n",
       "  <tbody>\n",
       "    <tr>\n",
       "      <th>106</th>\n",
       "      <td>274</td>\n",
       "      <td>True</td>\n",
       "      <td>Sukkerbiten</td>\n",
       "      <td>ved gangbroen til Sørenga</td>\n",
       "      <td>36</td>\n",
       "      <td>{'latitude': 59.90503, 'longitude': 10.753658}</td>\n",
       "      <td>[{'latitude': 59.905354, 'longitude': 10.75349...</td>\n",
       "    </tr>\n",
       "  </tbody>\n",
       "</table>\n",
       "</div>"
      ],
      "text/plain": [
       "      id  in_service        title                   subtitle  number_of_locks  \\\n",
       "106  274        True  Sukkerbiten  ved gangbroen til Sørenga               36   \n",
       "\n",
       "                                             center  \\\n",
       "106  {'latitude': 59.90503, 'longitude': 10.753658}   \n",
       "\n",
       "                                                bounds  \n",
       "106  [{'latitude': 59.905354, 'longitude': 10.75349...  "
      ]
     },
     "execution_count": 386,
     "metadata": {},
     "output_type": "execute_result"
    }
   ],
   "source": [
    "temp[temp.id==274]"
   ]
  },
  {
   "cell_type": "code",
   "execution_count": 216,
   "metadata": {},
   "outputs": [],
   "source": [
    "#Lets see the most common route\n",
    "dfcomb['journey']=dfcomb['Start station']+dfcomb['End station']"
   ]
  },
  {
   "cell_type": "code",
   "execution_count": 217,
   "metadata": {},
   "outputs": [
    {
     "data": {
      "text/plain": [
       "0    222222\n",
       "1    222222\n",
       "2    222222\n",
       "3    222222\n",
       "4    222222\n",
       "Name: journey, dtype: object"
      ]
     },
     "execution_count": 217,
     "metadata": {},
     "output_type": "execute_result"
    }
   ],
   "source": [
    "dfcomb['journey'].head()"
   ]
  },
  {
   "cell_type": "code",
   "execution_count": 218,
   "metadata": {},
   "outputs": [],
   "source": [
    "july18['journey']=july18['Start station']+july18['End station']"
   ]
  },
  {
   "cell_type": "code",
   "execution_count": 220,
   "metadata": {},
   "outputs": [
    {
     "data": {
      "text/plain": [
       "(428669, 9)"
      ]
     },
     "execution_count": 220,
     "metadata": {},
     "output_type": "execute_result"
    }
   ],
   "source": [
    "july18.shape"
   ]
  },
  {
   "cell_type": "code",
   "execution_count": 222,
   "metadata": {},
   "outputs": [
    {
     "data": {
      "text/plain": [
       "428669"
      ]
     },
     "execution_count": 222,
     "metadata": {},
     "output_type": "execute_result"
    }
   ],
   "source": [
    "sum(july18['journey']=='207177')"
   ]
  },
  {
   "cell_type": "code",
   "execution_count": 224,
   "metadata": {},
   "outputs": [
    {
     "data": {
      "text/plain": [
       "0    222272\n",
       "1    222272\n",
       "2    222272\n",
       "3    222272\n",
       "4    222272\n",
       "Name: journey, dtype: object"
      ]
     },
     "execution_count": 224,
     "metadata": {},
     "output_type": "execute_result"
    }
   ],
   "source": [
    "june18['journey']=june18['Start station']+june18['End station']\n",
    "june18.journey.head()"
   ]
  },
  {
   "cell_type": "code",
   "execution_count": 225,
   "metadata": {},
   "outputs": [
    {
     "data": {
      "text/html": [
       "<div>\n",
       "<style scoped>\n",
       "    .dataframe tbody tr th:only-of-type {\n",
       "        vertical-align: middle;\n",
       "    }\n",
       "\n",
       "    .dataframe tbody tr th {\n",
       "        vertical-align: top;\n",
       "    }\n",
       "\n",
       "    .dataframe thead th {\n",
       "        text-align: right;\n",
       "    }\n",
       "</style>\n",
       "<table border=\"1\" class=\"dataframe\">\n",
       "  <thead>\n",
       "    <tr style=\"text-align: right;\">\n",
       "      <th></th>\n",
       "      <th>Start station</th>\n",
       "      <th>Start time</th>\n",
       "      <th>End station</th>\n",
       "      <th>End time</th>\n",
       "      <th>duration</th>\n",
       "      <th>Date</th>\n",
       "      <th>day</th>\n",
       "      <th>month</th>\n",
       "      <th>journey</th>\n",
       "    </tr>\n",
       "  </thead>\n",
       "  <tbody>\n",
       "    <tr>\n",
       "      <th>0</th>\n",
       "      <td>222</td>\n",
       "      <td>2018-06-01 04:00:03</td>\n",
       "      <td>272</td>\n",
       "      <td>2018-06-01 04:04:39</td>\n",
       "      <td>4.600000</td>\n",
       "      <td>2018-06-01</td>\n",
       "      <td>Friday</td>\n",
       "      <td>June</td>\n",
       "      <td>222272</td>\n",
       "    </tr>\n",
       "    <tr>\n",
       "      <th>1</th>\n",
       "      <td>222</td>\n",
       "      <td>2018-06-01 04:00:03</td>\n",
       "      <td>272</td>\n",
       "      <td>2018-06-01 04:06:18</td>\n",
       "      <td>6.250000</td>\n",
       "      <td>2018-06-01</td>\n",
       "      <td>Friday</td>\n",
       "      <td>June</td>\n",
       "      <td>222272</td>\n",
       "    </tr>\n",
       "    <tr>\n",
       "      <th>2</th>\n",
       "      <td>222</td>\n",
       "      <td>2018-06-01 04:00:05</td>\n",
       "      <td>272</td>\n",
       "      <td>2018-06-01 04:11:06</td>\n",
       "      <td>11.016667</td>\n",
       "      <td>2018-06-01</td>\n",
       "      <td>Friday</td>\n",
       "      <td>June</td>\n",
       "      <td>222272</td>\n",
       "    </tr>\n",
       "    <tr>\n",
       "      <th>3</th>\n",
       "      <td>222</td>\n",
       "      <td>2018-06-01 04:00:09</td>\n",
       "      <td>272</td>\n",
       "      <td>2018-06-01 04:06:01</td>\n",
       "      <td>5.866667</td>\n",
       "      <td>2018-06-01</td>\n",
       "      <td>Friday</td>\n",
       "      <td>June</td>\n",
       "      <td>222272</td>\n",
       "    </tr>\n",
       "    <tr>\n",
       "      <th>4</th>\n",
       "      <td>222</td>\n",
       "      <td>2018-06-01 04:00:11</td>\n",
       "      <td>272</td>\n",
       "      <td>2018-06-01 04:04:47</td>\n",
       "      <td>4.600000</td>\n",
       "      <td>2018-06-01</td>\n",
       "      <td>Friday</td>\n",
       "      <td>June</td>\n",
       "      <td>222272</td>\n",
       "    </tr>\n",
       "  </tbody>\n",
       "</table>\n",
       "</div>"
      ],
      "text/plain": [
       "  Start station          Start time End station            End time  \\\n",
       "0           222 2018-06-01 04:00:03         272 2018-06-01 04:04:39   \n",
       "1           222 2018-06-01 04:00:03         272 2018-06-01 04:06:18   \n",
       "2           222 2018-06-01 04:00:05         272 2018-06-01 04:11:06   \n",
       "3           222 2018-06-01 04:00:09         272 2018-06-01 04:06:01   \n",
       "4           222 2018-06-01 04:00:11         272 2018-06-01 04:04:47   \n",
       "\n",
       "    duration        Date     day month journey  \n",
       "0   4.600000  2018-06-01  Friday  June  222272  \n",
       "1   6.250000  2018-06-01  Friday  June  222272  \n",
       "2  11.016667  2018-06-01  Friday  June  222272  \n",
       "3   5.866667  2018-06-01  Friday  June  222272  \n",
       "4   4.600000  2018-06-01  Friday  June  222272  "
      ]
     },
     "execution_count": 225,
     "metadata": {},
     "output_type": "execute_result"
    }
   ],
   "source": [
    "june18.head()"
   ]
  },
  {
   "cell_type": "code",
   "execution_count": 105,
   "metadata": {},
   "outputs": [
    {
     "data": {
      "text/html": [
       "<div>\n",
       "<style scoped>\n",
       "    .dataframe tbody tr th:only-of-type {\n",
       "        vertical-align: middle;\n",
       "    }\n",
       "\n",
       "    .dataframe tbody tr th {\n",
       "        vertical-align: top;\n",
       "    }\n",
       "\n",
       "    .dataframe thead th {\n",
       "        text-align: right;\n",
       "    }\n",
       "</style>\n",
       "<table border=\"1\" class=\"dataframe\">\n",
       "  <thead>\n",
       "    <tr style=\"text-align: right;\">\n",
       "      <th></th>\n",
       "      <th>Day</th>\n",
       "      <th>April</th>\n",
       "      <th>May</th>\n",
       "      <th>June</th>\n",
       "      <th>July</th>\n",
       "    </tr>\n",
       "  </thead>\n",
       "  <tbody>\n",
       "    <tr>\n",
       "      <th>0</th>\n",
       "      <td>Monday</td>\n",
       "      <td>12.414748</td>\n",
       "      <td>16.490992</td>\n",
       "      <td>14.466903</td>\n",
       "      <td>13.857905</td>\n",
       "    </tr>\n",
       "    <tr>\n",
       "      <th>1</th>\n",
       "      <td>Tuesday</td>\n",
       "      <td>12.469228</td>\n",
       "      <td>15.237743</td>\n",
       "      <td>14.236397</td>\n",
       "      <td>14.904777</td>\n",
       "    </tr>\n",
       "    <tr>\n",
       "      <th>2</th>\n",
       "      <td>Wednesday</td>\n",
       "      <td>13.891287</td>\n",
       "      <td>15.196284</td>\n",
       "      <td>13.811178</td>\n",
       "      <td>14.460248</td>\n",
       "    </tr>\n",
       "    <tr>\n",
       "      <th>3</th>\n",
       "      <td>Thursday</td>\n",
       "      <td>13.532182</td>\n",
       "      <td>16.162557</td>\n",
       "      <td>13.636014</td>\n",
       "      <td>14.358371</td>\n",
       "    </tr>\n",
       "    <tr>\n",
       "      <th>4</th>\n",
       "      <td>Friday</td>\n",
       "      <td>14.666142</td>\n",
       "      <td>17.083738</td>\n",
       "      <td>16.412188</td>\n",
       "      <td>15.302542</td>\n",
       "    </tr>\n",
       "    <tr>\n",
       "      <th>5</th>\n",
       "      <td>Saturday</td>\n",
       "      <td>19.457949</td>\n",
       "      <td>21.977323</td>\n",
       "      <td>17.749821</td>\n",
       "      <td>17.528012</td>\n",
       "    </tr>\n",
       "    <tr>\n",
       "      <th>6</th>\n",
       "      <td>Sunday</td>\n",
       "      <td>19.516364</td>\n",
       "      <td>20.839769</td>\n",
       "      <td>17.835985</td>\n",
       "      <td>17.493731</td>\n",
       "    </tr>\n",
       "  </tbody>\n",
       "</table>\n",
       "</div>"
      ],
      "text/plain": [
       "         Day      April        May       June       July\n",
       "0     Monday  12.414748  16.490992  14.466903  13.857905\n",
       "1    Tuesday  12.469228  15.237743  14.236397  14.904777\n",
       "2  Wednesday  13.891287  15.196284  13.811178  14.460248\n",
       "3   Thursday  13.532182  16.162557  13.636014  14.358371\n",
       "4     Friday  14.666142  17.083738  16.412188  15.302542\n",
       "5   Saturday  19.457949  21.977323  17.749821  17.528012\n",
       "6     Sunday  19.516364  20.839769  17.835985  17.493731"
      ]
     },
     "execution_count": 105,
     "metadata": {},
     "output_type": "execute_result"
    }
   ],
   "source": [
    "df=pd.concat([April,May,June,July],axis=1,sort=False)\n",
    "#df=df.transpose()\n",
    "df.index.name = 'Day'\n",
    "df.reset_index(inplace=True)\n",
    "df.head(7)"
   ]
  },
  {
   "cell_type": "code",
   "execution_count": 106,
   "metadata": {},
   "outputs": [
    {
     "data": {
      "text/plain": [
       "<matplotlib.axes._subplots.AxesSubplot at 0x129b036a0>"
      ]
     },
     "execution_count": 106,
     "metadata": {},
     "output_type": "execute_result"
    },
    {
     "data": {
      "image/png": "[encoded data removed]",
      "text/plain": [
       "<Figure size 432x288 with 1 Axes>"
      ]
     },
     "metadata": {},
     "output_type": "display_data"
    }
   ],
   "source": [
    "ax=sns.barplot(x=week,y='April',data=df,color=\"green\")\n",
    "sns.barplot(x=week,y='May',data=df,color=\"red\",ax=ax)"
   ]
  },
  {
   "cell_type": "code",
   "execution_count": 56,
   "metadata": {},
   "outputs": [
    {
     "data": {
      "text/plain": [
       "<matplotlib.axes._subplots.AxesSubplot at 0x1353d7160>"
      ]
     },
     "execution_count": 56,
     "metadata": {},
     "output_type": "execute_result"
    },
    {
     "data": {
      "image/png": "[encoded data removed]",
      "text/plain": [
       "<Figure size 432x288 with 1 Axes>"
      ]
     },
     "metadata": {},
     "output_type": "display_data"
    }
   ],
   "source": [
    "week=['Monday','Tuesday','Wednesday','Thursday','Friday','Saturday','Sunday']\n",
    "ax=sns.barplot(x='day',y='duration',data=june18,order=week,color=\"green\")\n",
    "sns.barplot(x='day',y='duration',data=july18,order=week,color=\"salmon\",ax=ax)\n",
    "#sns.barplot(x='day',y='duration',data=may18,order=week,color=\"red\",ax=ax)"
   ]
  },
  {
   "cell_type": "code",
   "execution_count": 23,
   "metadata": {},
   "outputs": [
    {
     "data": {
      "text/plain": [
       "<matplotlib.axes._subplots.AxesSubplot at 0x125928d68>"
      ]
     },
     "execution_count": 23,
     "metadata": {},
     "output_type": "execute_result"
    },
    {
     "data": {
      "image/png": "[encoded data removed]",
      "text/plain": [
       "<Figure size 432x288 with 1 Axes>"
      ]
     },
     "metadata": {},
     "output_type": "display_data"
    }
   ],
   "source": [
    "may18.groupby('day').mean().plot(kind='bar',y='duration')"
   ]
  },
  {
   "cell_type": "code",
   "execution_count": 15,
   "metadata": {},
   "outputs": [
    {
     "data": {
      "text/plain": [
       "<matplotlib.legend.Legend at 0x127db39b0>"
      ]
     },
     "execution_count": 15,
     "metadata": {},
     "output_type": "execute_result"
    },
    {
     "data": {
      "image/png": "[encoded data removed]",
      "text/plain": [
       "<Figure size 432x288 with 1 Axes>"
      ]
     },
     "metadata": {},
     "output_type": "display_data"
    }
   ],
   "source": [
    "ax=june18.groupby('day').mean().plot(kind='bar',y='duration')\n",
    "july18.groupby('day').mean().plot(kind='bar',y='duration',ax=ax)\n",
    "ax.legend([\"June\", \"July\"])"
   ]
  },
  {
   "cell_type": "code",
   "execution_count": 17,
   "metadata": {},
   "outputs": [
    {
     "data": {
      "text/plain": [
       "<matplotlib.legend.Legend at 0x12adb7ef0>"
      ]
     },
     "execution_count": 17,
     "metadata": {},
     "output_type": "execute_result"
    },
    {
     "data": {
      "image/png": "[encoded data removed]",
      "text/plain": [
       "<Figure size 432x288 with 1 Axes>"
      ]
     },
     "metadata": {},
     "output_type": "display_data"
    }
   ],
   "source": [
    "ax=june18.groupby('day').count().plot(kind='bar',y='duration')\n",
    "july18.groupby('day').count().plot(kind='bar',y='duration',ax=ax)\n",
    "ax.legend([\"June\", \"July\"])"
   ]
  },
  {
   "cell_type": "code",
   "execution_count": 11,
   "metadata": {},
   "outputs": [
    {
     "data": {
      "text/plain": [
       "<matplotlib.axes._subplots.AxesSubplot at 0x126053dd8>"
      ]
     },
     "execution_count": 11,
     "metadata": {},
     "output_type": "execute_result"
    },
    {
     "data": {
      "image/png": "[encoded data removed]",
      "text/plain": [
       "<Figure size 432x288 with 1 Axes>"
      ]
     },
     "metadata": {},
     "output_type": "display_data"
    }
   ],
   "source": [
    "july18.groupby('day').sum().plot(kind='bar',y='duration')"
   ]
  },
  {
   "cell_type": "code",
   "execution_count": 41,
   "metadata": {},
   "outputs": [
    {
     "data": {
      "text/plain": [
       "<matplotlib.axes._subplots.AxesSubplot at 0x11678f048>"
      ]
     },
     "execution_count": 41,
     "metadata": {},
     "output_type": "execute_result"
    },
    {
     "data": {
      "image/png": "[encoded data removed]",
      "text/plain": [
       "<Figure size 432x288 with 1 Axes>"
      ]
     },
     "metadata": {},
     "output_type": "display_data"
    }
   ],
   "source": [
    "%matplotlib inline\n",
    "july18.duration[(july18.duration < 60.0)].hist(bins=50)"
   ]
  },
  {
   "cell_type": "code",
   "execution_count": 42,
   "metadata": {},
   "outputs": [
    {
     "data": {
      "text/plain": [
       "<matplotlib.axes._subplots.AxesSubplot at 0x1167d3c18>"
      ]
     },
     "execution_count": 42,
     "metadata": {},
     "output_type": "execute_result"
    },
    {
     "data": {
      "image/png": "[encoded data removed]",
      "text/plain": [
       "<Figure size 432x288 with 1 Axes>"
      ]
     },
     "metadata": {},
     "output_type": "display_data"
    }
   ],
   "source": [
    "july18.duration[(july18.duration < 100.0)].plot.box()"
   ]
  },
  {
   "cell_type": "code",
   "execution_count": 11,
   "metadata": {},
   "outputs": [
    {
     "data": {
      "text/plain": [
       "<matplotlib.axes._subplots.AxesSubplot at 0x10ef41fd0>"
      ]
     },
     "execution_count": 11,
     "metadata": {},
     "output_type": "execute_result"
    },
    {
     "data": {
      "image/png": "[encoded data removed]",
      "text/plain": [
       "<Figure size 432x288 with 1 Axes>"
      ]
     },
     "metadata": {},
     "output_type": "display_data"
    }
   ],
   "source": [
    "july18['Start station'][(july18.duration > 100.0)].hist()"
   ]
  },
  {
   "cell_type": "code",
   "execution_count": 19,
   "metadata": {},
   "outputs": [
    {
     "data": {
      "text/plain": [
       "<matplotlib.axes._subplots.AxesSubplot at 0x123014b00>"
      ]
     },
     "execution_count": 19,
     "metadata": {},
     "output_type": "execute_result"
    },
    {
     "data": {
      "image/png": "[encoded data removed]",
      "text/plain": [
       "<Figure size 432x288 with 1 Axes>"
      ]
     },
     "metadata": {},
     "output_type": "display_data"
    }
   ],
   "source": [
    "july18['Start station'][(july18.duration < 100.0)&(july18['Start station'] < 280)&(july18['Start station'] > 270)].hist(bins=300)"
   ]
  },
  {
   "cell_type": "code",
   "execution_count": 45,
   "metadata": {},
   "outputs": [],
   "source": [
    "busystation=july18[july18['Start station'] == 274]"
   ]
  },
  {
   "cell_type": "code",
   "execution_count": 14,
   "metadata": {},
   "outputs": [
    {
     "data": {
      "text/plain": [
       "<matplotlib.axes._subplots.AxesSubplot at 0x11732ed68>"
      ]
     },
     "execution_count": 14,
     "metadata": {},
     "output_type": "execute_result"
    },
    {
     "data": {
      "image/png": "[encoded data removed]",
      "text/plain": [
       "<Figure size 432x288 with 1 Axes>"
      ]
     },
     "metadata": {},
     "output_type": "display_data"
    }
   ],
   "source": [
    "%matplotlib inline\n",
    "busystation['End station'][(busystation['End station']<250)&(busystation['End station']>240)].hist(bins=200)"
   ]
  },
  {
   "cell_type": "code",
   "execution_count": 46,
   "metadata": {},
   "outputs": [],
   "source": [
    "busystation2=busystation[busystation['End station']==247]"
   ]
  },
  {
   "cell_type": "code",
   "execution_count": 24,
   "metadata": {},
   "outputs": [
    {
     "data": {
      "text/plain": [
       "<matplotlib.axes._subplots.AxesSubplot at 0x11e938be0>"
      ]
     },
     "execution_count": 24,
     "metadata": {},
     "output_type": "execute_result"
    },
    {
     "data": {
      "image/png": "[encoded data removed]",
      "text/plain": [
       "<Figure size 432x288 with 1 Axes>"
      ]
     },
     "metadata": {},
     "output_type": "display_data"
    }
   ],
   "source": [
    "busystation2.duration[busystation2.duration<20].plot.box()"
   ]
  },
  {
   "cell_type": "code",
   "execution_count": 25,
   "metadata": {},
   "outputs": [
    {
     "data": {
      "text/plain": [
       "<matplotlib.axes._subplots.AxesSubplot at 0x11e865c50>"
      ]
     },
     "execution_count": 25,
     "metadata": {},
     "output_type": "execute_result"
    },
    {
     "data": {
      "image/png": "[encoded data removed]",
      "text/plain": [
       "<Figure size 432x288 with 1 Axes>"
      ]
     },
     "metadata": {},
     "output_type": "display_data"
    }
   ],
   "source": [
    "busystation2.duration[busystation2.duration<10].hist()"
   ]
  },
  {
   "cell_type": "code",
   "execution_count": 56,
   "metadata": {},
   "outputs": [
    {
     "data": {
      "text/plain": [
       "(754, 7)"
      ]
     },
     "execution_count": 56,
     "metadata": {},
     "output_type": "execute_result"
    }
   ],
   "source": [
    "busystation2.shape"
   ]
  },
  {
   "cell_type": "code",
   "execution_count": 61,
   "metadata": {},
   "outputs": [
    {
     "data": {
      "text/plain": [
       "<matplotlib.axes._subplots.AxesSubplot at 0x12af14be0>"
      ]
     },
     "execution_count": 61,
     "metadata": {},
     "output_type": "execute_result"
    },
    {
     "data": {
      "image/png": "[encoded data removed]",
      "text/plain": [
       "<Figure size 432x288 with 1 Axes>"
      ]
     },
     "metadata": {},
     "output_type": "display_data"
    }
   ],
   "source": [
    "pd.value_counts(busystation2['day']).plot.bar()"
   ]
  },
  {
   "cell_type": "code",
   "execution_count": 62,
   "metadata": {},
   "outputs": [
    {
     "data": {
      "text/plain": [
       "<matplotlib.axes._subplots.AxesSubplot at 0x12b1966d8>"
      ]
     },
     "execution_count": 62,
     "metadata": {},
     "output_type": "execute_result"
    },
    {
     "data": {
      "image/png": "[encoded data removed]",
      "text/plain": [
       "<Figure size 432x288 with 1 Axes>"
      ]
     },
     "metadata": {},
     "output_type": "display_data"
    }
   ],
   "source": [
    "pd.value_counts(busystation2['date']).plot.bar()"
   ]
  },
  {
   "cell_type": "code",
   "execution_count": 70,
   "metadata": {},
   "outputs": [
    {
     "data": {
      "text/plain": [
       "<matplotlib.axes._subplots.AxesSubplot at 0x129316cf8>"
      ]
     },
     "execution_count": 70,
     "metadata": {},
     "output_type": "execute_result"
    },
    {
     "data": {
      "image/png": "[encoded data removed]",
      "text/plain": [
       "<Figure size 432x288 with 1 Axes>"
      ]
     },
     "metadata": {},
     "output_type": "display_data"
    }
   ],
   "source": [
    "busystation2.groupby('date').sum().plot(kind='bar',y='duration')"
   ]
  },
  {
   "cell_type": "code",
   "execution_count": null,
   "metadata": {},
   "outputs": [],
   "source": []
  },
  {
   "cell_type": "code",
   "execution_count": 42,
   "metadata": {},
   "outputs": [
    {
     "data": {
      "text/plain": [
       "14418     2018-07-02\n",
       "14480     2018-07-02\n",
       "15091     2018-07-02\n",
       "15720     2018-07-02\n",
       "16076     2018-07-02\n",
       "16907     2018-07-02\n",
       "17096     2018-07-02\n",
       "17817     2018-07-02\n",
       "18075     2018-07-02\n",
       "18178     2018-07-02\n",
       "18267     2018-07-02\n",
       "18272     2018-07-02\n",
       "18625     2018-07-02\n",
       "18972     2018-07-02\n",
       "19359     2018-07-02\n",
       "19393     2018-07-02\n",
       "19838     2018-07-02\n",
       "21462     2018-07-02\n",
       "21689     2018-07-02\n",
       "21696     2018-07-02\n",
       "21765     2018-07-02\n",
       "21818     2018-07-02\n",
       "21856     2018-07-02\n",
       "22384     2018-07-02\n",
       "22609     2018-07-02\n",
       "22809     2018-07-02\n",
       "22815     2018-07-02\n",
       "23546     2018-07-02\n",
       "23805     2018-07-02\n",
       "23808     2018-07-02\n",
       "             ...    \n",
       "410738    2018-07-30\n",
       "410877    2018-07-30\n",
       "412654    2018-07-30\n",
       "412924    2018-07-30\n",
       "414404    2018-07-31\n",
       "414602    2018-07-31\n",
       "414747    2018-07-31\n",
       "414844    2018-07-31\n",
       "415056    2018-07-31\n",
       "415390    2018-07-31\n",
       "416010    2018-07-31\n",
       "416358    2018-07-31\n",
       "418111    2018-07-31\n",
       "418119    2018-07-31\n",
       "418217    2018-07-31\n",
       "418369    2018-07-31\n",
       "418859    2018-07-31\n",
       "419485    2018-07-31\n",
       "419684    2018-07-31\n",
       "420102    2018-07-31\n",
       "420284    2018-07-31\n",
       "421428    2018-07-31\n",
       "421830    2018-07-31\n",
       "426241    2018-07-31\n",
       "426695    2018-07-31\n",
       "427027    2018-07-31\n",
       "427367    2018-07-31\n",
       "428015    2018-07-31\n",
       "428062    2018-07-31\n",
       "428585    2018-07-31\n",
       "Name: date, Length: 754, dtype: object"
      ]
     },
     "execution_count": 42,
     "metadata": {},
     "output_type": "execute_result"
    }
   ],
   "source": [
    "busystation2['date']#=='2018-07-01'"
   ]
  },
  {
   "cell_type": "code",
   "execution_count": null,
   "metadata": {},
   "outputs": [],
   "source": []
  }
 ],
 "metadata": {
  "kernelspec": {
   "display_name": "Python 3",
   "language": "python",
   "name": "python3"
  },
  "language_info": {
   "codemirror_mode": {
    "name": "ipython",
    "version": 3
   },
   "file_extension": ".py",
   "mimetype": "text/x-python",
   "name": "python",
   "nbconvert_exporter": "python",
   "pygments_lexer": "ipython3",
   "version": "3.6.5"
  }
 },
 "nbformat": 4,
 "nbformat_minor": 2
}
